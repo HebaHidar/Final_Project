{
 "cells": [
  {
   "attachments": {},
   "cell_type": "markdown",
   "metadata": {},
   "source": [
    "<img src ='Customer-Segmentation.jpg' style='width\"5px ; hight:5px'>"
   ]
  },
  {
   "attachments": {},
   "cell_type": "markdown",
   "metadata": {},
   "source": [
    "# <span style='color:Green'> Import Libraries.  </span>"
   ]
  },
  {
   "cell_type": "code",
   "execution_count": 1,
   "metadata": {},
   "outputs": [],
   "source": [
    "import pandas as pd\n",
    "from matplotlib import pyplot as plt\n",
    "import numpy as np\n",
    "from sklearn.preprocessing import StandardScaler\n",
    "import seaborn as sns\n",
    "import re\n",
    "from sklearn.cluster import KMeans\n",
    "from sklearn.metrics.cluster import silhouette_score\n",
    "from sklearn import datasets\n",
    "from scipy import stats\n",
    "from matplotlib.pyplot import figure\n",
    "from sklearn.ensemble import GradientBoostingClassifier\n",
    "#from mpl_toolkits import mplot3d\n",
    "#import warnings\n",
    "#warnings.simplefilter(action='ignore', category=FutureWarning)\n",
    "#warnings.simplefilter(action='ignore', category=DeprecationWarning)\n",
    "#warnings.simplefilter(action='ignore', category=RuntimeWarning)"
   ]
  },
  {
   "attachments": {},
   "cell_type": "markdown",
   "metadata": {},
   "source": [
    "## <span style='background :White' > <span style='color:Green'> Read Data  </span> </span>"
   ]
  },
  {
   "cell_type": "code",
   "execution_count": 2,
   "metadata": {},
   "outputs": [
    {
     "data": {
      "text/html": [
       "<div>\n",
       "<style scoped>\n",
       "    .dataframe tbody tr th:only-of-type {\n",
       "        vertical-align: middle;\n",
       "    }\n",
       "\n",
       "    .dataframe tbody tr th {\n",
       "        vertical-align: top;\n",
       "    }\n",
       "\n",
       "    .dataframe thead th {\n",
       "        text-align: right;\n",
       "    }\n",
       "</style>\n",
       "<table border=\"1\" class=\"dataframe\">\n",
       "  <thead>\n",
       "    <tr style=\"text-align: right;\">\n",
       "      <th></th>\n",
       "      <th>TransactionID</th>\n",
       "      <th>CustomerID</th>\n",
       "      <th>CustomerDOB</th>\n",
       "      <th>CustGender</th>\n",
       "      <th>CustLocation</th>\n",
       "      <th>CustAccountBalance</th>\n",
       "      <th>TransactionDate</th>\n",
       "      <th>TransactionTime</th>\n",
       "      <th>TransactionAmount (INR)</th>\n",
       "    </tr>\n",
       "  </thead>\n",
       "  <tbody>\n",
       "    <tr>\n",
       "      <th>0</th>\n",
       "      <td>T1</td>\n",
       "      <td>C5841053</td>\n",
       "      <td>10/1/1994</td>\n",
       "      <td>F</td>\n",
       "      <td>JAMSHEDPUR</td>\n",
       "      <td>17819.05</td>\n",
       "      <td>2/8/2016</td>\n",
       "      <td>143207</td>\n",
       "      <td>25.0</td>\n",
       "    </tr>\n",
       "    <tr>\n",
       "      <th>1</th>\n",
       "      <td>T2</td>\n",
       "      <td>C2142763</td>\n",
       "      <td>4/4/1957</td>\n",
       "      <td>M</td>\n",
       "      <td>JHAJJAR</td>\n",
       "      <td>2270.69</td>\n",
       "      <td>2/8/2016</td>\n",
       "      <td>141858</td>\n",
       "      <td>27999.0</td>\n",
       "    </tr>\n",
       "    <tr>\n",
       "      <th>2</th>\n",
       "      <td>T3</td>\n",
       "      <td>C4417068</td>\n",
       "      <td>26/11/96</td>\n",
       "      <td>F</td>\n",
       "      <td>MUMBAI</td>\n",
       "      <td>17874.44</td>\n",
       "      <td>2/8/2016</td>\n",
       "      <td>142712</td>\n",
       "      <td>459.0</td>\n",
       "    </tr>\n",
       "    <tr>\n",
       "      <th>3</th>\n",
       "      <td>T4</td>\n",
       "      <td>C5342380</td>\n",
       "      <td>14/9/73</td>\n",
       "      <td>F</td>\n",
       "      <td>MUMBAI</td>\n",
       "      <td>866503.21</td>\n",
       "      <td>2/8/2016</td>\n",
       "      <td>142714</td>\n",
       "      <td>2060.0</td>\n",
       "    </tr>\n",
       "    <tr>\n",
       "      <th>4</th>\n",
       "      <td>T5</td>\n",
       "      <td>C9031234</td>\n",
       "      <td>24/3/88</td>\n",
       "      <td>F</td>\n",
       "      <td>NAVI MUMBAI</td>\n",
       "      <td>6714.43</td>\n",
       "      <td>2/8/2016</td>\n",
       "      <td>181156</td>\n",
       "      <td>1762.5</td>\n",
       "    </tr>\n",
       "  </tbody>\n",
       "</table>\n",
       "</div>"
      ],
      "text/plain": [
       "  TransactionID CustomerID CustomerDOB CustGender CustLocation  \\\n",
       "0            T1   C5841053   10/1/1994          F   JAMSHEDPUR   \n",
       "1            T2   C2142763    4/4/1957          M      JHAJJAR   \n",
       "2            T3   C4417068    26/11/96          F       MUMBAI   \n",
       "3            T4   C5342380     14/9/73          F       MUMBAI   \n",
       "4            T5   C9031234     24/3/88          F  NAVI MUMBAI   \n",
       "\n",
       "   CustAccountBalance TransactionDate  TransactionTime  \\\n",
       "0            17819.05        2/8/2016           143207   \n",
       "1             2270.69        2/8/2016           141858   \n",
       "2            17874.44        2/8/2016           142712   \n",
       "3           866503.21        2/8/2016           142714   \n",
       "4             6714.43        2/8/2016           181156   \n",
       "\n",
       "   TransactionAmount (INR)  \n",
       "0                     25.0  \n",
       "1                  27999.0  \n",
       "2                    459.0  \n",
       "3                   2060.0  \n",
       "4                   1762.5  "
      ]
     },
     "execution_count": 2,
     "metadata": {},
     "output_type": "execute_result"
    }
   ],
   "source": [
    "df = pd.read_csv(r\"D:\\Data Science\\Data\\Final project banck segmentation\\bank_transactions.csv\")\n",
    "df.head()"
   ]
  },
  {
   "cell_type": "code",
   "execution_count": 3,
   "metadata": {},
   "outputs": [
    {
     "data": {
      "text/plain": [
       "(1048567, 9)"
      ]
     },
     "execution_count": 3,
     "metadata": {},
     "output_type": "execute_result"
    }
   ],
   "source": [
    "df.shape"
   ]
  },
  {
   "cell_type": "code",
   "execution_count": 4,
   "metadata": {},
   "outputs": [
    {
     "name": "stdout",
     "output_type": "stream",
     "text": [
      "<class 'pandas.core.frame.DataFrame'>\n",
      "RangeIndex: 1048567 entries, 0 to 1048566\n",
      "Data columns (total 9 columns):\n",
      " #   Column                   Non-Null Count    Dtype  \n",
      "---  ------                   --------------    -----  \n",
      " 0   TransactionID            1048567 non-null  object \n",
      " 1   CustomerID               1048567 non-null  object \n",
      " 2   CustomerDOB              1045170 non-null  object \n",
      " 3   CustGender               1047467 non-null  object \n",
      " 4   CustLocation             1048416 non-null  object \n",
      " 5   CustAccountBalance       1046198 non-null  float64\n",
      " 6   TransactionDate          1048567 non-null  object \n",
      " 7   TransactionTime          1048567 non-null  int64  \n",
      " 8   TransactionAmount (INR)  1048567 non-null  float64\n",
      "dtypes: float64(2), int64(1), object(6)\n",
      "memory usage: 72.0+ MB\n"
     ]
    }
   ],
   "source": [
    "df.info()"
   ]
  },
  {
   "cell_type": "code",
   "execution_count": 5,
   "metadata": {},
   "outputs": [
    {
     "data": {
      "text/plain": [
       "TransactionID                 0\n",
       "CustomerID                    0\n",
       "CustomerDOB                3397\n",
       "CustGender                 1100\n",
       "CustLocation                151\n",
       "CustAccountBalance         2369\n",
       "TransactionDate               0\n",
       "TransactionTime               0\n",
       "TransactionAmount (INR)       0\n",
       "dtype: int64"
      ]
     },
     "execution_count": 5,
     "metadata": {},
     "output_type": "execute_result"
    }
   ],
   "source": [
    "df.isnull().sum()"
   ]
  },
  {
   "cell_type": "code",
   "execution_count": 6,
   "metadata": {},
   "outputs": [
    {
     "data": {
      "text/plain": [
       "TransactionID              1048567\n",
       "CustomerID                  884265\n",
       "CustomerDOB                  17254\n",
       "CustGender                       3\n",
       "CustLocation                  9355\n",
       "CustAccountBalance          161328\n",
       "TransactionDate                 55\n",
       "TransactionTime              81918\n",
       "TransactionAmount (INR)      93024\n",
       "dtype: int64"
      ]
     },
     "execution_count": 6,
     "metadata": {},
     "output_type": "execute_result"
    }
   ],
   "source": [
    "df.nunique()"
   ]
  },
  {
   "attachments": {},
   "cell_type": "markdown",
   "metadata": {},
   "source": [
    "### <span style='background :White' > <span style='color:Green'> Data Cleaning </span> </span>"
   ]
  },
  {
   "cell_type": "code",
   "execution_count": 7,
   "metadata": {},
   "outputs": [
    {
     "data": {
      "text/html": [
       "<div>\n",
       "<style scoped>\n",
       "    .dataframe tbody tr th:only-of-type {\n",
       "        vertical-align: middle;\n",
       "    }\n",
       "\n",
       "    .dataframe tbody tr th {\n",
       "        vertical-align: top;\n",
       "    }\n",
       "\n",
       "    .dataframe thead th {\n",
       "        text-align: right;\n",
       "    }\n",
       "</style>\n",
       "<table border=\"1\" class=\"dataframe\">\n",
       "  <thead>\n",
       "    <tr style=\"text-align: right;\">\n",
       "      <th></th>\n",
       "      <th>TransactionID</th>\n",
       "      <th>CustomerID</th>\n",
       "      <th>CustomerDOB</th>\n",
       "      <th>CustGender</th>\n",
       "      <th>CustLocation</th>\n",
       "      <th>CustAccountBalance</th>\n",
       "      <th>TransactionDate</th>\n",
       "      <th>TransactionAmount (INR)</th>\n",
       "    </tr>\n",
       "  </thead>\n",
       "  <tbody>\n",
       "    <tr>\n",
       "      <th>0</th>\n",
       "      <td>T1</td>\n",
       "      <td>C5841053</td>\n",
       "      <td>10/1/1994</td>\n",
       "      <td>F</td>\n",
       "      <td>JAMSHEDPUR</td>\n",
       "      <td>17819.05</td>\n",
       "      <td>2/8/2016</td>\n",
       "      <td>25.0</td>\n",
       "    </tr>\n",
       "    <tr>\n",
       "      <th>1</th>\n",
       "      <td>T2</td>\n",
       "      <td>C2142763</td>\n",
       "      <td>4/4/1957</td>\n",
       "      <td>M</td>\n",
       "      <td>JHAJJAR</td>\n",
       "      <td>2270.69</td>\n",
       "      <td>2/8/2016</td>\n",
       "      <td>27999.0</td>\n",
       "    </tr>\n",
       "    <tr>\n",
       "      <th>2</th>\n",
       "      <td>T3</td>\n",
       "      <td>C4417068</td>\n",
       "      <td>26/11/96</td>\n",
       "      <td>F</td>\n",
       "      <td>MUMBAI</td>\n",
       "      <td>17874.44</td>\n",
       "      <td>2/8/2016</td>\n",
       "      <td>459.0</td>\n",
       "    </tr>\n",
       "    <tr>\n",
       "      <th>3</th>\n",
       "      <td>T4</td>\n",
       "      <td>C5342380</td>\n",
       "      <td>14/9/73</td>\n",
       "      <td>F</td>\n",
       "      <td>MUMBAI</td>\n",
       "      <td>866503.21</td>\n",
       "      <td>2/8/2016</td>\n",
       "      <td>2060.0</td>\n",
       "    </tr>\n",
       "    <tr>\n",
       "      <th>4</th>\n",
       "      <td>T5</td>\n",
       "      <td>C9031234</td>\n",
       "      <td>24/3/88</td>\n",
       "      <td>F</td>\n",
       "      <td>NAVI MUMBAI</td>\n",
       "      <td>6714.43</td>\n",
       "      <td>2/8/2016</td>\n",
       "      <td>1762.5</td>\n",
       "    </tr>\n",
       "  </tbody>\n",
       "</table>\n",
       "</div>"
      ],
      "text/plain": [
       "  TransactionID CustomerID CustomerDOB CustGender CustLocation  \\\n",
       "0            T1   C5841053   10/1/1994          F   JAMSHEDPUR   \n",
       "1            T2   C2142763    4/4/1957          M      JHAJJAR   \n",
       "2            T3   C4417068    26/11/96          F       MUMBAI   \n",
       "3            T4   C5342380     14/9/73          F       MUMBAI   \n",
       "4            T5   C9031234     24/3/88          F  NAVI MUMBAI   \n",
       "\n",
       "   CustAccountBalance TransactionDate  TransactionAmount (INR)  \n",
       "0            17819.05        2/8/2016                     25.0  \n",
       "1             2270.69        2/8/2016                  27999.0  \n",
       "2            17874.44        2/8/2016                    459.0  \n",
       "3           866503.21        2/8/2016                   2060.0  \n",
       "4             6714.43        2/8/2016                   1762.5  "
      ]
     },
     "execution_count": 7,
     "metadata": {},
     "output_type": "execute_result"
    }
   ],
   "source": [
    "df.drop(df.columns[[7]], axis=1, inplace=True )\n",
    "df.head()"
   ]
  },
  {
   "cell_type": "code",
   "execution_count": 8,
   "metadata": {},
   "outputs": [
    {
     "name": "stdout",
     "output_type": "stream",
     "text": [
      "M    765530\n",
      "F    281936\n",
      "T         1\n",
      "Name: CustGender, dtype: int64\n",
      "       TransactionID CustomerID CustomerDOB CustGender CustLocation  \\\n",
      "959987       T959988   C3380368    1/1/1800          T      CHENNAI   \n",
      "\n",
      "        CustAccountBalance TransactionDate  TransactionAmount (INR)  \n",
      "959987             50050.0       10/9/2016                  32500.0  \n"
     ]
    }
   ],
   "source": [
    "print(df['CustGender'].value_counts())\n",
    "print(df[(df['CustGender']== 'T')])"
   ]
  },
  {
   "cell_type": "code",
   "execution_count": 9,
   "metadata": {},
   "outputs": [
    {
     "data": {
      "text/plain": [
       "M    765530\n",
       "F    281936\n",
       "Name: CustGender, dtype: int64"
      ]
     },
     "execution_count": 9,
     "metadata": {},
     "output_type": "execute_result"
    }
   ],
   "source": [
    "df.drop(df.index[959987] , axis=0 , inplace=True)\n",
    "df.CustGender.value_counts()"
   ]
  },
  {
   "cell_type": "code",
   "execution_count": 10,
   "metadata": {},
   "outputs": [],
   "source": [
    "df.dropna(inplace=True)"
   ]
  },
  {
   "cell_type": "code",
   "execution_count": 11,
   "metadata": {},
   "outputs": [
    {
     "data": {
      "text/plain": [
       "0"
      ]
     },
     "execution_count": 11,
     "metadata": {},
     "output_type": "execute_result"
    }
   ],
   "source": [
    "df.duplicated().sum()"
   ]
  },
  {
   "cell_type": "code",
   "execution_count": 12,
   "metadata": {},
   "outputs": [
    {
     "data": {
      "text/plain": [
       "TransactionID              0\n",
       "CustomerID                 0\n",
       "CustomerDOB                0\n",
       "CustGender                 0\n",
       "CustLocation               0\n",
       "CustAccountBalance         0\n",
       "TransactionDate            0\n",
       "TransactionAmount (INR)    0\n",
       "dtype: int64"
      ]
     },
     "execution_count": 12,
     "metadata": {},
     "output_type": "execute_result"
    }
   ],
   "source": [
    "df.isnull().sum()"
   ]
  },
  {
   "cell_type": "code",
   "execution_count": 13,
   "metadata": {},
   "outputs": [
    {
     "data": {
      "text/plain": [
       "(1041613, 8)"
      ]
     },
     "execution_count": 13,
     "metadata": {},
     "output_type": "execute_result"
    }
   ],
   "source": [
    "df.shape"
   ]
  },
  {
   "cell_type": "code",
   "execution_count": 14,
   "metadata": {},
   "outputs": [],
   "source": [
    "df['CustomerDOB'] = pd.to_datetime(df['CustomerDOB'] , dayfirst=True)\n",
    "df['TransactionDate'] = pd.to_datetime(df['TransactionDate'] , dayfirst=True)"
   ]
  },
  {
   "attachments": {},
   "cell_type": "markdown",
   "metadata": {},
   "source": [
    "#### Calculate The Age"
   ]
  },
  {
   "cell_type": "code",
   "execution_count": 15,
   "metadata": {},
   "outputs": [],
   "source": [
    "df['Age'] = df['TransactionDate'].dt.year - df['CustomerDOB'].dt.year"
   ]
  },
  {
   "cell_type": "code",
   "execution_count": 16,
   "metadata": {},
   "outputs": [
    {
     "data": {
      "text/html": [
       "<div>\n",
       "<style scoped>\n",
       "    .dataframe tbody tr th:only-of-type {\n",
       "        vertical-align: middle;\n",
       "    }\n",
       "\n",
       "    .dataframe tbody tr th {\n",
       "        vertical-align: top;\n",
       "    }\n",
       "\n",
       "    .dataframe thead th {\n",
       "        text-align: right;\n",
       "    }\n",
       "</style>\n",
       "<table border=\"1\" class=\"dataframe\">\n",
       "  <thead>\n",
       "    <tr style=\"text-align: right;\">\n",
       "      <th></th>\n",
       "      <th>TransactionID</th>\n",
       "      <th>CustomerID</th>\n",
       "      <th>CustomerDOB</th>\n",
       "      <th>CustGender</th>\n",
       "      <th>CustLocation</th>\n",
       "      <th>CustAccountBalance</th>\n",
       "      <th>TransactionDate</th>\n",
       "      <th>TransactionAmount (INR)</th>\n",
       "      <th>Age</th>\n",
       "    </tr>\n",
       "  </thead>\n",
       "  <tbody>\n",
       "    <tr>\n",
       "      <th>0</th>\n",
       "      <td>T1</td>\n",
       "      <td>C5841053</td>\n",
       "      <td>1994-01-10</td>\n",
       "      <td>F</td>\n",
       "      <td>JAMSHEDPUR</td>\n",
       "      <td>17819.05</td>\n",
       "      <td>2016-08-02</td>\n",
       "      <td>25.00</td>\n",
       "      <td>22</td>\n",
       "    </tr>\n",
       "    <tr>\n",
       "      <th>1</th>\n",
       "      <td>T2</td>\n",
       "      <td>C2142763</td>\n",
       "      <td>1957-04-04</td>\n",
       "      <td>M</td>\n",
       "      <td>JHAJJAR</td>\n",
       "      <td>2270.69</td>\n",
       "      <td>2016-08-02</td>\n",
       "      <td>27999.00</td>\n",
       "      <td>59</td>\n",
       "    </tr>\n",
       "    <tr>\n",
       "      <th>2</th>\n",
       "      <td>T3</td>\n",
       "      <td>C4417068</td>\n",
       "      <td>1996-11-26</td>\n",
       "      <td>F</td>\n",
       "      <td>MUMBAI</td>\n",
       "      <td>17874.44</td>\n",
       "      <td>2016-08-02</td>\n",
       "      <td>459.00</td>\n",
       "      <td>20</td>\n",
       "    </tr>\n",
       "    <tr>\n",
       "      <th>3</th>\n",
       "      <td>T4</td>\n",
       "      <td>C5342380</td>\n",
       "      <td>1973-09-14</td>\n",
       "      <td>F</td>\n",
       "      <td>MUMBAI</td>\n",
       "      <td>866503.21</td>\n",
       "      <td>2016-08-02</td>\n",
       "      <td>2060.00</td>\n",
       "      <td>43</td>\n",
       "    </tr>\n",
       "    <tr>\n",
       "      <th>4</th>\n",
       "      <td>T5</td>\n",
       "      <td>C9031234</td>\n",
       "      <td>1988-03-24</td>\n",
       "      <td>F</td>\n",
       "      <td>NAVI MUMBAI</td>\n",
       "      <td>6714.43</td>\n",
       "      <td>2016-08-02</td>\n",
       "      <td>1762.50</td>\n",
       "      <td>28</td>\n",
       "    </tr>\n",
       "    <tr>\n",
       "      <th>5</th>\n",
       "      <td>T6</td>\n",
       "      <td>C1536588</td>\n",
       "      <td>1972-10-08</td>\n",
       "      <td>F</td>\n",
       "      <td>ITANAGAR</td>\n",
       "      <td>53609.20</td>\n",
       "      <td>2016-08-02</td>\n",
       "      <td>676.00</td>\n",
       "      <td>44</td>\n",
       "    </tr>\n",
       "    <tr>\n",
       "      <th>6</th>\n",
       "      <td>T7</td>\n",
       "      <td>C7126560</td>\n",
       "      <td>1992-01-26</td>\n",
       "      <td>F</td>\n",
       "      <td>MUMBAI</td>\n",
       "      <td>973.46</td>\n",
       "      <td>2016-08-02</td>\n",
       "      <td>566.00</td>\n",
       "      <td>24</td>\n",
       "    </tr>\n",
       "    <tr>\n",
       "      <th>7</th>\n",
       "      <td>T8</td>\n",
       "      <td>C1220223</td>\n",
       "      <td>1982-01-27</td>\n",
       "      <td>M</td>\n",
       "      <td>MUMBAI</td>\n",
       "      <td>95075.54</td>\n",
       "      <td>2016-08-02</td>\n",
       "      <td>148.00</td>\n",
       "      <td>34</td>\n",
       "    </tr>\n",
       "    <tr>\n",
       "      <th>8</th>\n",
       "      <td>T9</td>\n",
       "      <td>C8536061</td>\n",
       "      <td>1988-04-19</td>\n",
       "      <td>F</td>\n",
       "      <td>GURGAON</td>\n",
       "      <td>14906.96</td>\n",
       "      <td>2016-08-02</td>\n",
       "      <td>833.00</td>\n",
       "      <td>28</td>\n",
       "    </tr>\n",
       "    <tr>\n",
       "      <th>9</th>\n",
       "      <td>T10</td>\n",
       "      <td>C6638934</td>\n",
       "      <td>1984-06-22</td>\n",
       "      <td>M</td>\n",
       "      <td>MUMBAI</td>\n",
       "      <td>4279.22</td>\n",
       "      <td>2016-08-02</td>\n",
       "      <td>289.11</td>\n",
       "      <td>32</td>\n",
       "    </tr>\n",
       "    <tr>\n",
       "      <th>10</th>\n",
       "      <td>T11</td>\n",
       "      <td>C5430833</td>\n",
       "      <td>1982-07-22</td>\n",
       "      <td>M</td>\n",
       "      <td>MOHALI</td>\n",
       "      <td>48429.49</td>\n",
       "      <td>2016-08-02</td>\n",
       "      <td>259.00</td>\n",
       "      <td>34</td>\n",
       "    </tr>\n",
       "    <tr>\n",
       "      <th>11</th>\n",
       "      <td>T12</td>\n",
       "      <td>C6939838</td>\n",
       "      <td>1988-07-07</td>\n",
       "      <td>M</td>\n",
       "      <td>GUNTUR</td>\n",
       "      <td>14613.46</td>\n",
       "      <td>2016-08-02</td>\n",
       "      <td>202.00</td>\n",
       "      <td>28</td>\n",
       "    </tr>\n",
       "    <tr>\n",
       "      <th>12</th>\n",
       "      <td>T13</td>\n",
       "      <td>C6339347</td>\n",
       "      <td>1978-06-13</td>\n",
       "      <td>M</td>\n",
       "      <td>AHMEDABAD</td>\n",
       "      <td>32274.78</td>\n",
       "      <td>2016-08-02</td>\n",
       "      <td>12300.00</td>\n",
       "      <td>38</td>\n",
       "    </tr>\n",
       "    <tr>\n",
       "      <th>13</th>\n",
       "      <td>T14</td>\n",
       "      <td>C8327851</td>\n",
       "      <td>1992-01-05</td>\n",
       "      <td>F</td>\n",
       "      <td>THANE</td>\n",
       "      <td>59950.44</td>\n",
       "      <td>2016-08-01</td>\n",
       "      <td>50.00</td>\n",
       "      <td>24</td>\n",
       "    </tr>\n",
       "    <tr>\n",
       "      <th>14</th>\n",
       "      <td>T15</td>\n",
       "      <td>C7917151</td>\n",
       "      <td>1978-03-24</td>\n",
       "      <td>M</td>\n",
       "      <td>PUNE</td>\n",
       "      <td>10100.84</td>\n",
       "      <td>2016-08-01</td>\n",
       "      <td>338.00</td>\n",
       "      <td>38</td>\n",
       "    </tr>\n",
       "    <tr>\n",
       "      <th>15</th>\n",
       "      <td>T16</td>\n",
       "      <td>C8334633</td>\n",
       "      <td>1968-07-10</td>\n",
       "      <td>F</td>\n",
       "      <td>NEW DELHI</td>\n",
       "      <td>1283.12</td>\n",
       "      <td>2016-08-01</td>\n",
       "      <td>250.00</td>\n",
       "      <td>48</td>\n",
       "    </tr>\n",
       "    <tr>\n",
       "      <th>16</th>\n",
       "      <td>T17</td>\n",
       "      <td>C1376215</td>\n",
       "      <td>1800-01-01</td>\n",
       "      <td>M</td>\n",
       "      <td>MUMBAI</td>\n",
       "      <td>77495.15</td>\n",
       "      <td>2016-08-01</td>\n",
       "      <td>1423.11</td>\n",
       "      <td>216</td>\n",
       "    </tr>\n",
       "    <tr>\n",
       "      <th>17</th>\n",
       "      <td>T18</td>\n",
       "      <td>C8967349</td>\n",
       "      <td>1989-07-16</td>\n",
       "      <td>M</td>\n",
       "      <td>MUMBAI</td>\n",
       "      <td>2177.85</td>\n",
       "      <td>2016-08-01</td>\n",
       "      <td>54.00</td>\n",
       "      <td>27</td>\n",
       "    </tr>\n",
       "    <tr>\n",
       "      <th>18</th>\n",
       "      <td>T19</td>\n",
       "      <td>C3732016</td>\n",
       "      <td>1991-01-11</td>\n",
       "      <td>M</td>\n",
       "      <td>MUMBAI</td>\n",
       "      <td>32816.17</td>\n",
       "      <td>2016-08-01</td>\n",
       "      <td>315.00</td>\n",
       "      <td>25</td>\n",
       "    </tr>\n",
       "    <tr>\n",
       "      <th>19</th>\n",
       "      <td>T20</td>\n",
       "      <td>C8999019</td>\n",
       "      <td>1985-06-24</td>\n",
       "      <td>M</td>\n",
       "      <td>PUNE</td>\n",
       "      <td>10643.50</td>\n",
       "      <td>2016-08-01</td>\n",
       "      <td>945.00</td>\n",
       "      <td>31</td>\n",
       "    </tr>\n",
       "  </tbody>\n",
       "</table>\n",
       "</div>"
      ],
      "text/plain": [
       "   TransactionID CustomerID CustomerDOB CustGender CustLocation  \\\n",
       "0             T1   C5841053  1994-01-10          F   JAMSHEDPUR   \n",
       "1             T2   C2142763  1957-04-04          M      JHAJJAR   \n",
       "2             T3   C4417068  1996-11-26          F       MUMBAI   \n",
       "3             T4   C5342380  1973-09-14          F       MUMBAI   \n",
       "4             T5   C9031234  1988-03-24          F  NAVI MUMBAI   \n",
       "5             T6   C1536588  1972-10-08          F     ITANAGAR   \n",
       "6             T7   C7126560  1992-01-26          F       MUMBAI   \n",
       "7             T8   C1220223  1982-01-27          M       MUMBAI   \n",
       "8             T9   C8536061  1988-04-19          F      GURGAON   \n",
       "9            T10   C6638934  1984-06-22          M       MUMBAI   \n",
       "10           T11   C5430833  1982-07-22          M       MOHALI   \n",
       "11           T12   C6939838  1988-07-07          M       GUNTUR   \n",
       "12           T13   C6339347  1978-06-13          M    AHMEDABAD   \n",
       "13           T14   C8327851  1992-01-05          F        THANE   \n",
       "14           T15   C7917151  1978-03-24          M         PUNE   \n",
       "15           T16   C8334633  1968-07-10          F    NEW DELHI   \n",
       "16           T17   C1376215  1800-01-01          M       MUMBAI   \n",
       "17           T18   C8967349  1989-07-16          M       MUMBAI   \n",
       "18           T19   C3732016  1991-01-11          M       MUMBAI   \n",
       "19           T20   C8999019  1985-06-24          M         PUNE   \n",
       "\n",
       "    CustAccountBalance TransactionDate  TransactionAmount (INR)  Age  \n",
       "0             17819.05      2016-08-02                    25.00   22  \n",
       "1              2270.69      2016-08-02                 27999.00   59  \n",
       "2             17874.44      2016-08-02                   459.00   20  \n",
       "3            866503.21      2016-08-02                  2060.00   43  \n",
       "4              6714.43      2016-08-02                  1762.50   28  \n",
       "5             53609.20      2016-08-02                   676.00   44  \n",
       "6               973.46      2016-08-02                   566.00   24  \n",
       "7             95075.54      2016-08-02                   148.00   34  \n",
       "8             14906.96      2016-08-02                   833.00   28  \n",
       "9              4279.22      2016-08-02                   289.11   32  \n",
       "10            48429.49      2016-08-02                   259.00   34  \n",
       "11            14613.46      2016-08-02                   202.00   28  \n",
       "12            32274.78      2016-08-02                 12300.00   38  \n",
       "13            59950.44      2016-08-01                    50.00   24  \n",
       "14            10100.84      2016-08-01                   338.00   38  \n",
       "15             1283.12      2016-08-01                   250.00   48  \n",
       "16            77495.15      2016-08-01                  1423.11  216  \n",
       "17             2177.85      2016-08-01                    54.00   27  \n",
       "18            32816.17      2016-08-01                   315.00   25  \n",
       "19            10643.50      2016-08-01                   945.00   31  "
      ]
     },
     "execution_count": 16,
     "metadata": {},
     "output_type": "execute_result"
    }
   ],
   "source": [
    "df.head(20)"
   ]
  },
  {
   "cell_type": "code",
   "execution_count": 17,
   "metadata": {},
   "outputs": [
    {
     "data": {
      "text/html": [
       "<div>\n",
       "<style scoped>\n",
       "    .dataframe tbody tr th:only-of-type {\n",
       "        vertical-align: middle;\n",
       "    }\n",
       "\n",
       "    .dataframe tbody tr th {\n",
       "        vertical-align: top;\n",
       "    }\n",
       "\n",
       "    .dataframe thead th {\n",
       "        text-align: right;\n",
       "    }\n",
       "</style>\n",
       "<table border=\"1\" class=\"dataframe\">\n",
       "  <thead>\n",
       "    <tr style=\"text-align: right;\">\n",
       "      <th></th>\n",
       "      <th>TransactionID</th>\n",
       "      <th>CustomerID</th>\n",
       "      <th>CustomerDOB</th>\n",
       "      <th>CustGender</th>\n",
       "      <th>CustLocation</th>\n",
       "      <th>CustAccountBalance</th>\n",
       "      <th>TransactionDate</th>\n",
       "      <th>TransactionAmount (INR)</th>\n",
       "      <th>Age</th>\n",
       "    </tr>\n",
       "  </thead>\n",
       "  <tbody>\n",
       "    <tr>\n",
       "      <th>0</th>\n",
       "      <td>T1</td>\n",
       "      <td>C5841053</td>\n",
       "      <td>1994-01-10</td>\n",
       "      <td>F</td>\n",
       "      <td>JAMSHEDPUR</td>\n",
       "      <td>17819.05</td>\n",
       "      <td>2016-08-02</td>\n",
       "      <td>25.00</td>\n",
       "      <td>22</td>\n",
       "    </tr>\n",
       "    <tr>\n",
       "      <th>1</th>\n",
       "      <td>T2</td>\n",
       "      <td>C2142763</td>\n",
       "      <td>1957-04-04</td>\n",
       "      <td>M</td>\n",
       "      <td>JHAJJAR</td>\n",
       "      <td>2270.69</td>\n",
       "      <td>2016-08-02</td>\n",
       "      <td>27999.00</td>\n",
       "      <td>59</td>\n",
       "    </tr>\n",
       "    <tr>\n",
       "      <th>3</th>\n",
       "      <td>T4</td>\n",
       "      <td>C5342380</td>\n",
       "      <td>1973-09-14</td>\n",
       "      <td>F</td>\n",
       "      <td>MUMBAI</td>\n",
       "      <td>866503.21</td>\n",
       "      <td>2016-08-02</td>\n",
       "      <td>2060.00</td>\n",
       "      <td>43</td>\n",
       "    </tr>\n",
       "    <tr>\n",
       "      <th>4</th>\n",
       "      <td>T5</td>\n",
       "      <td>C9031234</td>\n",
       "      <td>1988-03-24</td>\n",
       "      <td>F</td>\n",
       "      <td>NAVI MUMBAI</td>\n",
       "      <td>6714.43</td>\n",
       "      <td>2016-08-02</td>\n",
       "      <td>1762.50</td>\n",
       "      <td>28</td>\n",
       "    </tr>\n",
       "    <tr>\n",
       "      <th>5</th>\n",
       "      <td>T6</td>\n",
       "      <td>C1536588</td>\n",
       "      <td>1972-10-08</td>\n",
       "      <td>F</td>\n",
       "      <td>ITANAGAR</td>\n",
       "      <td>53609.20</td>\n",
       "      <td>2016-08-02</td>\n",
       "      <td>676.00</td>\n",
       "      <td>44</td>\n",
       "    </tr>\n",
       "    <tr>\n",
       "      <th>6</th>\n",
       "      <td>T7</td>\n",
       "      <td>C7126560</td>\n",
       "      <td>1992-01-26</td>\n",
       "      <td>F</td>\n",
       "      <td>MUMBAI</td>\n",
       "      <td>973.46</td>\n",
       "      <td>2016-08-02</td>\n",
       "      <td>566.00</td>\n",
       "      <td>24</td>\n",
       "    </tr>\n",
       "    <tr>\n",
       "      <th>7</th>\n",
       "      <td>T8</td>\n",
       "      <td>C1220223</td>\n",
       "      <td>1982-01-27</td>\n",
       "      <td>M</td>\n",
       "      <td>MUMBAI</td>\n",
       "      <td>95075.54</td>\n",
       "      <td>2016-08-02</td>\n",
       "      <td>148.00</td>\n",
       "      <td>34</td>\n",
       "    </tr>\n",
       "    <tr>\n",
       "      <th>8</th>\n",
       "      <td>T9</td>\n",
       "      <td>C8536061</td>\n",
       "      <td>1988-04-19</td>\n",
       "      <td>F</td>\n",
       "      <td>GURGAON</td>\n",
       "      <td>14906.96</td>\n",
       "      <td>2016-08-02</td>\n",
       "      <td>833.00</td>\n",
       "      <td>28</td>\n",
       "    </tr>\n",
       "    <tr>\n",
       "      <th>9</th>\n",
       "      <td>T10</td>\n",
       "      <td>C6638934</td>\n",
       "      <td>1984-06-22</td>\n",
       "      <td>M</td>\n",
       "      <td>MUMBAI</td>\n",
       "      <td>4279.22</td>\n",
       "      <td>2016-08-02</td>\n",
       "      <td>289.11</td>\n",
       "      <td>32</td>\n",
       "    </tr>\n",
       "    <tr>\n",
       "      <th>10</th>\n",
       "      <td>T11</td>\n",
       "      <td>C5430833</td>\n",
       "      <td>1982-07-22</td>\n",
       "      <td>M</td>\n",
       "      <td>MOHALI</td>\n",
       "      <td>48429.49</td>\n",
       "      <td>2016-08-02</td>\n",
       "      <td>259.00</td>\n",
       "      <td>34</td>\n",
       "    </tr>\n",
       "    <tr>\n",
       "      <th>11</th>\n",
       "      <td>T12</td>\n",
       "      <td>C6939838</td>\n",
       "      <td>1988-07-07</td>\n",
       "      <td>M</td>\n",
       "      <td>GUNTUR</td>\n",
       "      <td>14613.46</td>\n",
       "      <td>2016-08-02</td>\n",
       "      <td>202.00</td>\n",
       "      <td>28</td>\n",
       "    </tr>\n",
       "    <tr>\n",
       "      <th>12</th>\n",
       "      <td>T13</td>\n",
       "      <td>C6339347</td>\n",
       "      <td>1978-06-13</td>\n",
       "      <td>M</td>\n",
       "      <td>AHMEDABAD</td>\n",
       "      <td>32274.78</td>\n",
       "      <td>2016-08-02</td>\n",
       "      <td>12300.00</td>\n",
       "      <td>38</td>\n",
       "    </tr>\n",
       "    <tr>\n",
       "      <th>13</th>\n",
       "      <td>T14</td>\n",
       "      <td>C8327851</td>\n",
       "      <td>1992-01-05</td>\n",
       "      <td>F</td>\n",
       "      <td>THANE</td>\n",
       "      <td>59950.44</td>\n",
       "      <td>2016-08-01</td>\n",
       "      <td>50.00</td>\n",
       "      <td>24</td>\n",
       "    </tr>\n",
       "    <tr>\n",
       "      <th>14</th>\n",
       "      <td>T15</td>\n",
       "      <td>C7917151</td>\n",
       "      <td>1978-03-24</td>\n",
       "      <td>M</td>\n",
       "      <td>PUNE</td>\n",
       "      <td>10100.84</td>\n",
       "      <td>2016-08-01</td>\n",
       "      <td>338.00</td>\n",
       "      <td>38</td>\n",
       "    </tr>\n",
       "    <tr>\n",
       "      <th>15</th>\n",
       "      <td>T16</td>\n",
       "      <td>C8334633</td>\n",
       "      <td>1968-07-10</td>\n",
       "      <td>F</td>\n",
       "      <td>NEW DELHI</td>\n",
       "      <td>1283.12</td>\n",
       "      <td>2016-08-01</td>\n",
       "      <td>250.00</td>\n",
       "      <td>48</td>\n",
       "    </tr>\n",
       "    <tr>\n",
       "      <th>16</th>\n",
       "      <td>T17</td>\n",
       "      <td>C1376215</td>\n",
       "      <td>1800-01-01</td>\n",
       "      <td>M</td>\n",
       "      <td>MUMBAI</td>\n",
       "      <td>77495.15</td>\n",
       "      <td>2016-08-01</td>\n",
       "      <td>1423.11</td>\n",
       "      <td>216</td>\n",
       "    </tr>\n",
       "    <tr>\n",
       "      <th>17</th>\n",
       "      <td>T18</td>\n",
       "      <td>C8967349</td>\n",
       "      <td>1989-07-16</td>\n",
       "      <td>M</td>\n",
       "      <td>MUMBAI</td>\n",
       "      <td>2177.85</td>\n",
       "      <td>2016-08-01</td>\n",
       "      <td>54.00</td>\n",
       "      <td>27</td>\n",
       "    </tr>\n",
       "    <tr>\n",
       "      <th>18</th>\n",
       "      <td>T19</td>\n",
       "      <td>C3732016</td>\n",
       "      <td>1991-01-11</td>\n",
       "      <td>M</td>\n",
       "      <td>MUMBAI</td>\n",
       "      <td>32816.17</td>\n",
       "      <td>2016-08-01</td>\n",
       "      <td>315.00</td>\n",
       "      <td>25</td>\n",
       "    </tr>\n",
       "    <tr>\n",
       "      <th>19</th>\n",
       "      <td>T20</td>\n",
       "      <td>C8999019</td>\n",
       "      <td>1985-06-24</td>\n",
       "      <td>M</td>\n",
       "      <td>PUNE</td>\n",
       "      <td>10643.50</td>\n",
       "      <td>2016-08-01</td>\n",
       "      <td>945.00</td>\n",
       "      <td>31</td>\n",
       "    </tr>\n",
       "    <tr>\n",
       "      <th>20</th>\n",
       "      <td>T21</td>\n",
       "      <td>C6121429</td>\n",
       "      <td>1993-04-20</td>\n",
       "      <td>M</td>\n",
       "      <td>NO 3 KALYANI NAGAR PUNE</td>\n",
       "      <td>2934.22</td>\n",
       "      <td>2016-08-01</td>\n",
       "      <td>36.00</td>\n",
       "      <td>23</td>\n",
       "    </tr>\n",
       "  </tbody>\n",
       "</table>\n",
       "</div>"
      ],
      "text/plain": [
       "   TransactionID CustomerID CustomerDOB CustGender             CustLocation  \\\n",
       "0             T1   C5841053  1994-01-10          F               JAMSHEDPUR   \n",
       "1             T2   C2142763  1957-04-04          M                  JHAJJAR   \n",
       "3             T4   C5342380  1973-09-14          F                   MUMBAI   \n",
       "4             T5   C9031234  1988-03-24          F              NAVI MUMBAI   \n",
       "5             T6   C1536588  1972-10-08          F                 ITANAGAR   \n",
       "6             T7   C7126560  1992-01-26          F                   MUMBAI   \n",
       "7             T8   C1220223  1982-01-27          M                   MUMBAI   \n",
       "8             T9   C8536061  1988-04-19          F                  GURGAON   \n",
       "9            T10   C6638934  1984-06-22          M                   MUMBAI   \n",
       "10           T11   C5430833  1982-07-22          M                   MOHALI   \n",
       "11           T12   C6939838  1988-07-07          M                   GUNTUR   \n",
       "12           T13   C6339347  1978-06-13          M                AHMEDABAD   \n",
       "13           T14   C8327851  1992-01-05          F                    THANE   \n",
       "14           T15   C7917151  1978-03-24          M                     PUNE   \n",
       "15           T16   C8334633  1968-07-10          F                NEW DELHI   \n",
       "16           T17   C1376215  1800-01-01          M                   MUMBAI   \n",
       "17           T18   C8967349  1989-07-16          M                   MUMBAI   \n",
       "18           T19   C3732016  1991-01-11          M                   MUMBAI   \n",
       "19           T20   C8999019  1985-06-24          M                     PUNE   \n",
       "20           T21   C6121429  1993-04-20          M  NO 3 KALYANI NAGAR PUNE   \n",
       "\n",
       "    CustAccountBalance TransactionDate  TransactionAmount (INR)  Age  \n",
       "0             17819.05      2016-08-02                    25.00   22  \n",
       "1              2270.69      2016-08-02                 27999.00   59  \n",
       "3            866503.21      2016-08-02                  2060.00   43  \n",
       "4              6714.43      2016-08-02                  1762.50   28  \n",
       "5             53609.20      2016-08-02                   676.00   44  \n",
       "6               973.46      2016-08-02                   566.00   24  \n",
       "7             95075.54      2016-08-02                   148.00   34  \n",
       "8             14906.96      2016-08-02                   833.00   28  \n",
       "9              4279.22      2016-08-02                   289.11   32  \n",
       "10            48429.49      2016-08-02                   259.00   34  \n",
       "11            14613.46      2016-08-02                   202.00   28  \n",
       "12            32274.78      2016-08-02                 12300.00   38  \n",
       "13            59950.44      2016-08-01                    50.00   24  \n",
       "14            10100.84      2016-08-01                   338.00   38  \n",
       "15             1283.12      2016-08-01                   250.00   48  \n",
       "16            77495.15      2016-08-01                  1423.11  216  \n",
       "17             2177.85      2016-08-01                    54.00   27  \n",
       "18            32816.17      2016-08-01                   315.00   25  \n",
       "19            10643.50      2016-08-01                   945.00   31  \n",
       "20             2934.22      2016-08-01                    36.00   23  "
      ]
     },
     "execution_count": 17,
     "metadata": {},
     "output_type": "execute_result"
    }
   ],
   "source": [
    "indexAge = df[(df['Age'] <= 20)].index\n",
    "df.drop(indexAge,inplace=True)\n",
    "df.head(20)"
   ]
  },
  {
   "cell_type": "code",
   "execution_count": 18,
   "metadata": {},
   "outputs": [
    {
     "data": {
      "text/html": [
       "<div>\n",
       "<style scoped>\n",
       "    .dataframe tbody tr th:only-of-type {\n",
       "        vertical-align: middle;\n",
       "    }\n",
       "\n",
       "    .dataframe tbody tr th {\n",
       "        vertical-align: top;\n",
       "    }\n",
       "\n",
       "    .dataframe thead th {\n",
       "        text-align: right;\n",
       "    }\n",
       "</style>\n",
       "<table border=\"1\" class=\"dataframe\">\n",
       "  <thead>\n",
       "    <tr style=\"text-align: right;\">\n",
       "      <th></th>\n",
       "      <th>TransactionID</th>\n",
       "      <th>CustomerID</th>\n",
       "      <th>CustomerDOB</th>\n",
       "      <th>CustGender</th>\n",
       "      <th>CustLocation</th>\n",
       "      <th>CustAccountBalance</th>\n",
       "      <th>TransactionDate</th>\n",
       "      <th>TransactionAmount (INR)</th>\n",
       "      <th>Age</th>\n",
       "    </tr>\n",
       "  </thead>\n",
       "  <tbody>\n",
       "    <tr>\n",
       "      <th>0</th>\n",
       "      <td>T1</td>\n",
       "      <td>C5841053</td>\n",
       "      <td>1994-01-10</td>\n",
       "      <td>F</td>\n",
       "      <td>JAMSHEDPUR</td>\n",
       "      <td>17819.05</td>\n",
       "      <td>2016-08-02</td>\n",
       "      <td>25.00</td>\n",
       "      <td>22</td>\n",
       "    </tr>\n",
       "    <tr>\n",
       "      <th>1</th>\n",
       "      <td>T2</td>\n",
       "      <td>C2142763</td>\n",
       "      <td>1957-04-04</td>\n",
       "      <td>M</td>\n",
       "      <td>JHAJJAR</td>\n",
       "      <td>2270.69</td>\n",
       "      <td>2016-08-02</td>\n",
       "      <td>27999.00</td>\n",
       "      <td>59</td>\n",
       "    </tr>\n",
       "    <tr>\n",
       "      <th>3</th>\n",
       "      <td>T4</td>\n",
       "      <td>C5342380</td>\n",
       "      <td>1973-09-14</td>\n",
       "      <td>F</td>\n",
       "      <td>MUMBAI</td>\n",
       "      <td>866503.21</td>\n",
       "      <td>2016-08-02</td>\n",
       "      <td>2060.00</td>\n",
       "      <td>43</td>\n",
       "    </tr>\n",
       "    <tr>\n",
       "      <th>4</th>\n",
       "      <td>T5</td>\n",
       "      <td>C9031234</td>\n",
       "      <td>1988-03-24</td>\n",
       "      <td>F</td>\n",
       "      <td>NAVI MUMBAI</td>\n",
       "      <td>6714.43</td>\n",
       "      <td>2016-08-02</td>\n",
       "      <td>1762.50</td>\n",
       "      <td>28</td>\n",
       "    </tr>\n",
       "    <tr>\n",
       "      <th>5</th>\n",
       "      <td>T6</td>\n",
       "      <td>C1536588</td>\n",
       "      <td>1972-10-08</td>\n",
       "      <td>F</td>\n",
       "      <td>ITANAGAR</td>\n",
       "      <td>53609.20</td>\n",
       "      <td>2016-08-02</td>\n",
       "      <td>676.00</td>\n",
       "      <td>44</td>\n",
       "    </tr>\n",
       "    <tr>\n",
       "      <th>6</th>\n",
       "      <td>T7</td>\n",
       "      <td>C7126560</td>\n",
       "      <td>1992-01-26</td>\n",
       "      <td>F</td>\n",
       "      <td>MUMBAI</td>\n",
       "      <td>973.46</td>\n",
       "      <td>2016-08-02</td>\n",
       "      <td>566.00</td>\n",
       "      <td>24</td>\n",
       "    </tr>\n",
       "    <tr>\n",
       "      <th>7</th>\n",
       "      <td>T8</td>\n",
       "      <td>C1220223</td>\n",
       "      <td>1982-01-27</td>\n",
       "      <td>M</td>\n",
       "      <td>MUMBAI</td>\n",
       "      <td>95075.54</td>\n",
       "      <td>2016-08-02</td>\n",
       "      <td>148.00</td>\n",
       "      <td>34</td>\n",
       "    </tr>\n",
       "    <tr>\n",
       "      <th>8</th>\n",
       "      <td>T9</td>\n",
       "      <td>C8536061</td>\n",
       "      <td>1988-04-19</td>\n",
       "      <td>F</td>\n",
       "      <td>GURGAON</td>\n",
       "      <td>14906.96</td>\n",
       "      <td>2016-08-02</td>\n",
       "      <td>833.00</td>\n",
       "      <td>28</td>\n",
       "    </tr>\n",
       "    <tr>\n",
       "      <th>9</th>\n",
       "      <td>T10</td>\n",
       "      <td>C6638934</td>\n",
       "      <td>1984-06-22</td>\n",
       "      <td>M</td>\n",
       "      <td>MUMBAI</td>\n",
       "      <td>4279.22</td>\n",
       "      <td>2016-08-02</td>\n",
       "      <td>289.11</td>\n",
       "      <td>32</td>\n",
       "    </tr>\n",
       "    <tr>\n",
       "      <th>10</th>\n",
       "      <td>T11</td>\n",
       "      <td>C5430833</td>\n",
       "      <td>1982-07-22</td>\n",
       "      <td>M</td>\n",
       "      <td>MOHALI</td>\n",
       "      <td>48429.49</td>\n",
       "      <td>2016-08-02</td>\n",
       "      <td>259.00</td>\n",
       "      <td>34</td>\n",
       "    </tr>\n",
       "    <tr>\n",
       "      <th>11</th>\n",
       "      <td>T12</td>\n",
       "      <td>C6939838</td>\n",
       "      <td>1988-07-07</td>\n",
       "      <td>M</td>\n",
       "      <td>GUNTUR</td>\n",
       "      <td>14613.46</td>\n",
       "      <td>2016-08-02</td>\n",
       "      <td>202.00</td>\n",
       "      <td>28</td>\n",
       "    </tr>\n",
       "    <tr>\n",
       "      <th>12</th>\n",
       "      <td>T13</td>\n",
       "      <td>C6339347</td>\n",
       "      <td>1978-06-13</td>\n",
       "      <td>M</td>\n",
       "      <td>AHMEDABAD</td>\n",
       "      <td>32274.78</td>\n",
       "      <td>2016-08-02</td>\n",
       "      <td>12300.00</td>\n",
       "      <td>38</td>\n",
       "    </tr>\n",
       "    <tr>\n",
       "      <th>13</th>\n",
       "      <td>T14</td>\n",
       "      <td>C8327851</td>\n",
       "      <td>1992-01-05</td>\n",
       "      <td>F</td>\n",
       "      <td>THANE</td>\n",
       "      <td>59950.44</td>\n",
       "      <td>2016-08-01</td>\n",
       "      <td>50.00</td>\n",
       "      <td>24</td>\n",
       "    </tr>\n",
       "    <tr>\n",
       "      <th>14</th>\n",
       "      <td>T15</td>\n",
       "      <td>C7917151</td>\n",
       "      <td>1978-03-24</td>\n",
       "      <td>M</td>\n",
       "      <td>PUNE</td>\n",
       "      <td>10100.84</td>\n",
       "      <td>2016-08-01</td>\n",
       "      <td>338.00</td>\n",
       "      <td>38</td>\n",
       "    </tr>\n",
       "    <tr>\n",
       "      <th>15</th>\n",
       "      <td>T16</td>\n",
       "      <td>C8334633</td>\n",
       "      <td>1968-07-10</td>\n",
       "      <td>F</td>\n",
       "      <td>NEW DELHI</td>\n",
       "      <td>1283.12</td>\n",
       "      <td>2016-08-01</td>\n",
       "      <td>250.00</td>\n",
       "      <td>48</td>\n",
       "    </tr>\n",
       "  </tbody>\n",
       "</table>\n",
       "</div>"
      ],
      "text/plain": [
       "   TransactionID CustomerID CustomerDOB CustGender CustLocation  \\\n",
       "0             T1   C5841053  1994-01-10          F   JAMSHEDPUR   \n",
       "1             T2   C2142763  1957-04-04          M      JHAJJAR   \n",
       "3             T4   C5342380  1973-09-14          F       MUMBAI   \n",
       "4             T5   C9031234  1988-03-24          F  NAVI MUMBAI   \n",
       "5             T6   C1536588  1972-10-08          F     ITANAGAR   \n",
       "6             T7   C7126560  1992-01-26          F       MUMBAI   \n",
       "7             T8   C1220223  1982-01-27          M       MUMBAI   \n",
       "8             T9   C8536061  1988-04-19          F      GURGAON   \n",
       "9            T10   C6638934  1984-06-22          M       MUMBAI   \n",
       "10           T11   C5430833  1982-07-22          M       MOHALI   \n",
       "11           T12   C6939838  1988-07-07          M       GUNTUR   \n",
       "12           T13   C6339347  1978-06-13          M    AHMEDABAD   \n",
       "13           T14   C8327851  1992-01-05          F        THANE   \n",
       "14           T15   C7917151  1978-03-24          M         PUNE   \n",
       "15           T16   C8334633  1968-07-10          F    NEW DELHI   \n",
       "\n",
       "    CustAccountBalance TransactionDate  TransactionAmount (INR)  Age  \n",
       "0             17819.05      2016-08-02                    25.00   22  \n",
       "1              2270.69      2016-08-02                 27999.00   59  \n",
       "3            866503.21      2016-08-02                  2060.00   43  \n",
       "4              6714.43      2016-08-02                  1762.50   28  \n",
       "5             53609.20      2016-08-02                   676.00   44  \n",
       "6               973.46      2016-08-02                   566.00   24  \n",
       "7             95075.54      2016-08-02                   148.00   34  \n",
       "8             14906.96      2016-08-02                   833.00   28  \n",
       "9              4279.22      2016-08-02                   289.11   32  \n",
       "10            48429.49      2016-08-02                   259.00   34  \n",
       "11            14613.46      2016-08-02                   202.00   28  \n",
       "12            32274.78      2016-08-02                 12300.00   38  \n",
       "13            59950.44      2016-08-01                    50.00   24  \n",
       "14            10100.84      2016-08-01                   338.00   38  \n",
       "15             1283.12      2016-08-01                   250.00   48  "
      ]
     },
     "execution_count": 18,
     "metadata": {},
     "output_type": "execute_result"
    }
   ],
   "source": [
    "indexAge1 = df[(df['Age'] >= 100)].index\n",
    "df.drop(indexAge1,inplace=True)\n",
    "df.head(15)"
   ]
  },
  {
   "cell_type": "code",
   "execution_count": 19,
   "metadata": {},
   "outputs": [
    {
     "data": {
      "text/plain": [
       "(915961, 9)"
      ]
     },
     "execution_count": 19,
     "metadata": {},
     "output_type": "execute_result"
    }
   ],
   "source": [
    "df.shape"
   ]
  },
  {
   "cell_type": "code",
   "execution_count": 20,
   "metadata": {},
   "outputs": [
    {
     "data": {
      "text/html": [
       "<div>\n",
       "<style scoped>\n",
       "    .dataframe tbody tr th:only-of-type {\n",
       "        vertical-align: middle;\n",
       "    }\n",
       "\n",
       "    .dataframe tbody tr th {\n",
       "        vertical-align: top;\n",
       "    }\n",
       "\n",
       "    .dataframe thead th {\n",
       "        text-align: right;\n",
       "    }\n",
       "</style>\n",
       "<table border=\"1\" class=\"dataframe\">\n",
       "  <thead>\n",
       "    <tr style=\"text-align: right;\">\n",
       "      <th></th>\n",
       "      <th>TransactionID</th>\n",
       "      <th>CustomerID</th>\n",
       "      <th>CustomerDOB</th>\n",
       "      <th>CustGender</th>\n",
       "      <th>CustLocation</th>\n",
       "      <th>CustAccountBalance</th>\n",
       "      <th>TransactionDate</th>\n",
       "      <th>TransactionAmount (INR)</th>\n",
       "      <th>Age</th>\n",
       "    </tr>\n",
       "  </thead>\n",
       "  <tbody>\n",
       "    <tr>\n",
       "      <th>0</th>\n",
       "      <td>T1</td>\n",
       "      <td>C5841053</td>\n",
       "      <td>1994-01-10</td>\n",
       "      <td>0</td>\n",
       "      <td>JAMSHEDPUR</td>\n",
       "      <td>17819.05</td>\n",
       "      <td>2016-08-02</td>\n",
       "      <td>25.0</td>\n",
       "      <td>22</td>\n",
       "    </tr>\n",
       "    <tr>\n",
       "      <th>1</th>\n",
       "      <td>T2</td>\n",
       "      <td>C2142763</td>\n",
       "      <td>1957-04-04</td>\n",
       "      <td>1</td>\n",
       "      <td>JHAJJAR</td>\n",
       "      <td>2270.69</td>\n",
       "      <td>2016-08-02</td>\n",
       "      <td>27999.0</td>\n",
       "      <td>59</td>\n",
       "    </tr>\n",
       "    <tr>\n",
       "      <th>3</th>\n",
       "      <td>T4</td>\n",
       "      <td>C5342380</td>\n",
       "      <td>1973-09-14</td>\n",
       "      <td>0</td>\n",
       "      <td>MUMBAI</td>\n",
       "      <td>866503.21</td>\n",
       "      <td>2016-08-02</td>\n",
       "      <td>2060.0</td>\n",
       "      <td>43</td>\n",
       "    </tr>\n",
       "    <tr>\n",
       "      <th>4</th>\n",
       "      <td>T5</td>\n",
       "      <td>C9031234</td>\n",
       "      <td>1988-03-24</td>\n",
       "      <td>0</td>\n",
       "      <td>NAVI MUMBAI</td>\n",
       "      <td>6714.43</td>\n",
       "      <td>2016-08-02</td>\n",
       "      <td>1762.5</td>\n",
       "      <td>28</td>\n",
       "    </tr>\n",
       "    <tr>\n",
       "      <th>5</th>\n",
       "      <td>T6</td>\n",
       "      <td>C1536588</td>\n",
       "      <td>1972-10-08</td>\n",
       "      <td>0</td>\n",
       "      <td>ITANAGAR</td>\n",
       "      <td>53609.20</td>\n",
       "      <td>2016-08-02</td>\n",
       "      <td>676.0</td>\n",
       "      <td>44</td>\n",
       "    </tr>\n",
       "  </tbody>\n",
       "</table>\n",
       "</div>"
      ],
      "text/plain": [
       "  TransactionID CustomerID CustomerDOB  CustGender CustLocation  \\\n",
       "0            T1   C5841053  1994-01-10           0   JAMSHEDPUR   \n",
       "1            T2   C2142763  1957-04-04           1      JHAJJAR   \n",
       "3            T4   C5342380  1973-09-14           0       MUMBAI   \n",
       "4            T5   C9031234  1988-03-24           0  NAVI MUMBAI   \n",
       "5            T6   C1536588  1972-10-08           0     ITANAGAR   \n",
       "\n",
       "   CustAccountBalance TransactionDate  TransactionAmount (INR)  Age  \n",
       "0            17819.05      2016-08-02                     25.0   22  \n",
       "1             2270.69      2016-08-02                  27999.0   59  \n",
       "3           866503.21      2016-08-02                   2060.0   43  \n",
       "4             6714.43      2016-08-02                   1762.5   28  \n",
       "5            53609.20      2016-08-02                    676.0   44  "
      ]
     },
     "execution_count": 20,
     "metadata": {},
     "output_type": "execute_result"
    }
   ],
   "source": [
    "df['CustGender'].replace(['F'], 0 ,inplace=True)\n",
    "df['CustGender'].replace(['M'], 1 ,inplace=True)\n",
    "df.head()"
   ]
  },
  {
   "cell_type": "code",
   "execution_count": 21,
   "metadata": {},
   "outputs": [
    {
     "data": {
      "text/plain": [
       "C6735477    6\n",
       "C6624352    6\n",
       "C1026833    6\n",
       "C6222360    6\n",
       "C1736254    6\n",
       "           ..\n",
       "C2426484    1\n",
       "C8823888    1\n",
       "C1741444    1\n",
       "C5315354    1\n",
       "C6420483    1\n",
       "Name: CustomerID, Length: 788502, dtype: int64"
      ]
     },
     "execution_count": 21,
     "metadata": {},
     "output_type": "execute_result"
    }
   ],
   "source": [
    "df['CustomerID'].value_counts()"
   ]
  },
  {
   "cell_type": "code",
   "execution_count": 22,
   "metadata": {},
   "outputs": [],
   "source": [
    "df['Pre_Recency'] = df ['TransactionDate'] \n",
    "df['FirstDateCustVisitBanck'] = df ['TransactionDate']"
   ]
  },
  {
   "attachments": {},
   "cell_type": "markdown",
   "metadata": {},
   "source": [
    "### Extract The Important Data"
   ]
  },
  {
   "attachments": {},
   "cell_type": "markdown",
   "metadata": {},
   "source": [
    "####  RECENCY FREQUENCY MONETARY\n",
    "##### RFM"
   ]
  },
  {
   "cell_type": "code",
   "execution_count": 23,
   "metadata": {},
   "outputs": [
    {
     "data": {
      "text/html": [
       "<div>\n",
       "<style scoped>\n",
       "    .dataframe tbody tr th:only-of-type {\n",
       "        vertical-align: middle;\n",
       "    }\n",
       "\n",
       "    .dataframe tbody tr th {\n",
       "        vertical-align: top;\n",
       "    }\n",
       "\n",
       "    .dataframe thead th {\n",
       "        text-align: right;\n",
       "    }\n",
       "</style>\n",
       "<table border=\"1\" class=\"dataframe\">\n",
       "  <thead>\n",
       "    <tr style=\"text-align: right;\">\n",
       "      <th></th>\n",
       "      <th>TransactionID</th>\n",
       "      <th>CustomerDOB</th>\n",
       "      <th>CustGender</th>\n",
       "      <th>CustLocation</th>\n",
       "      <th>CustAccountBalance</th>\n",
       "      <th>TransactionAmount (INR)</th>\n",
       "      <th>Age</th>\n",
       "      <th>Pre_Recency</th>\n",
       "      <th>FirstDateCustVisitBanck</th>\n",
       "    </tr>\n",
       "    <tr>\n",
       "      <th>CustomerID</th>\n",
       "      <th></th>\n",
       "      <th></th>\n",
       "      <th></th>\n",
       "      <th></th>\n",
       "      <th></th>\n",
       "      <th></th>\n",
       "      <th></th>\n",
       "      <th></th>\n",
       "      <th></th>\n",
       "    </tr>\n",
       "  </thead>\n",
       "  <tbody>\n",
       "    <tr>\n",
       "      <th>C1010011</th>\n",
       "      <td>2</td>\n",
       "      <td>1988-02-11</td>\n",
       "      <td>0</td>\n",
       "      <td>NOIDA</td>\n",
       "      <td>76340.635</td>\n",
       "      <td>2553.0</td>\n",
       "      <td>24</td>\n",
       "      <td>2016-09-26</td>\n",
       "      <td>2016-08-09</td>\n",
       "    </tr>\n",
       "    <tr>\n",
       "      <th>C1010012</th>\n",
       "      <td>1</td>\n",
       "      <td>1994-07-28</td>\n",
       "      <td>1</td>\n",
       "      <td>MUMBAI</td>\n",
       "      <td>24204.490</td>\n",
       "      <td>1499.0</td>\n",
       "      <td>22</td>\n",
       "      <td>2016-08-14</td>\n",
       "      <td>2016-08-14</td>\n",
       "    </tr>\n",
       "    <tr>\n",
       "      <th>C1010014</th>\n",
       "      <td>2</td>\n",
       "      <td>1988-07-12</td>\n",
       "      <td>0</td>\n",
       "      <td>MUMBAI</td>\n",
       "      <td>100112.950</td>\n",
       "      <td>727.5</td>\n",
       "      <td>24</td>\n",
       "      <td>2016-08-07</td>\n",
       "      <td>2016-08-01</td>\n",
       "    </tr>\n",
       "    <tr>\n",
       "      <th>C1010018</th>\n",
       "      <td>1</td>\n",
       "      <td>1990-05-29</td>\n",
       "      <td>0</td>\n",
       "      <td>CHAMPARAN</td>\n",
       "      <td>496.180</td>\n",
       "      <td>30.0</td>\n",
       "      <td>26</td>\n",
       "      <td>2016-09-15</td>\n",
       "      <td>2016-09-15</td>\n",
       "    </tr>\n",
       "    <tr>\n",
       "      <th>C1010028</th>\n",
       "      <td>1</td>\n",
       "      <td>1988-08-25</td>\n",
       "      <td>0</td>\n",
       "      <td>DELHI</td>\n",
       "      <td>296828.370</td>\n",
       "      <td>557.0</td>\n",
       "      <td>28</td>\n",
       "      <td>2016-08-29</td>\n",
       "      <td>2016-08-29</td>\n",
       "    </tr>\n",
       "  </tbody>\n",
       "</table>\n",
       "</div>"
      ],
      "text/plain": [
       "            TransactionID CustomerDOB  CustGender CustLocation  \\\n",
       "CustomerID                                                       \n",
       "C1010011                2  1988-02-11           0        NOIDA   \n",
       "C1010012                1  1994-07-28           1       MUMBAI   \n",
       "C1010014                2  1988-07-12           0       MUMBAI   \n",
       "C1010018                1  1990-05-29           0    CHAMPARAN   \n",
       "C1010028                1  1988-08-25           0        DELHI   \n",
       "\n",
       "            CustAccountBalance  TransactionAmount (INR)  Age Pre_Recency  \\\n",
       "CustomerID                                                                 \n",
       "C1010011             76340.635                   2553.0   24  2016-09-26   \n",
       "C1010012             24204.490                   1499.0   22  2016-08-14   \n",
       "C1010014            100112.950                    727.5   24  2016-08-07   \n",
       "C1010018               496.180                     30.0   26  2016-09-15   \n",
       "C1010028            296828.370                    557.0   28  2016-08-29   \n",
       "\n",
       "           FirstDateCustVisitBanck  \n",
       "CustomerID                          \n",
       "C1010011                2016-08-09  \n",
       "C1010012                2016-08-14  \n",
       "C1010014                2016-08-01  \n",
       "C1010018                2016-09-15  \n",
       "C1010028                2016-08-29  "
      ]
     },
     "execution_count": 23,
     "metadata": {},
     "output_type": "execute_result"
    }
   ],
   "source": [
    "RFM_df = df.groupby('CustomerID').agg({'TransactionID':'count' , 'CustomerDOB':'median' , 'CustGender':'first' , 'CustLocation':'first' , 'CustAccountBalance':'mean' , \n",
    "                                       'TransactionAmount (INR)':'mean' ,'Age' :'first' , 'Pre_Recency':'max' , 'FirstDateCustVisitBanck':'min'})\n",
    "\n",
    "RFM_df.head()"
   ]
  },
  {
   "cell_type": "code",
   "execution_count": 24,
   "metadata": {},
   "outputs": [
    {
     "data": {
      "text/plain": [
       "(788502, 9)"
      ]
     },
     "execution_count": 24,
     "metadata": {},
     "output_type": "execute_result"
    }
   ],
   "source": [
    "RFM_df.shape"
   ]
  },
  {
   "cell_type": "code",
   "execution_count": 25,
   "metadata": {},
   "outputs": [],
   "source": [
    "RFM_df ['Recency'] = RFM_df ['Pre_Recency'] - RFM_df['FirstDateCustVisitBanck']"
   ]
  },
  {
   "cell_type": "code",
   "execution_count": 26,
   "metadata": {},
   "outputs": [],
   "source": [
    "RFM_df['Recency']=RFM_df['Recency'].astype(str)"
   ]
  },
  {
   "cell_type": "code",
   "execution_count": 27,
   "metadata": {},
   "outputs": [
    {
     "data": {
      "text/html": [
       "<div>\n",
       "<style scoped>\n",
       "    .dataframe tbody tr th:only-of-type {\n",
       "        vertical-align: middle;\n",
       "    }\n",
       "\n",
       "    .dataframe tbody tr th {\n",
       "        vertical-align: top;\n",
       "    }\n",
       "\n",
       "    .dataframe thead th {\n",
       "        text-align: right;\n",
       "    }\n",
       "</style>\n",
       "<table border=\"1\" class=\"dataframe\">\n",
       "  <thead>\n",
       "    <tr style=\"text-align: right;\">\n",
       "      <th></th>\n",
       "      <th>TransactionID</th>\n",
       "      <th>CustomerDOB</th>\n",
       "      <th>CustGender</th>\n",
       "      <th>CustLocation</th>\n",
       "      <th>CustAccountBalance</th>\n",
       "      <th>TransactionAmount (INR)</th>\n",
       "      <th>Age</th>\n",
       "      <th>Pre_Recency</th>\n",
       "      <th>FirstDateCustVisitBanck</th>\n",
       "      <th>Recency</th>\n",
       "    </tr>\n",
       "    <tr>\n",
       "      <th>CustomerID</th>\n",
       "      <th></th>\n",
       "      <th></th>\n",
       "      <th></th>\n",
       "      <th></th>\n",
       "      <th></th>\n",
       "      <th></th>\n",
       "      <th></th>\n",
       "      <th></th>\n",
       "      <th></th>\n",
       "      <th></th>\n",
       "    </tr>\n",
       "  </thead>\n",
       "  <tbody>\n",
       "    <tr>\n",
       "      <th>C1010011</th>\n",
       "      <td>2</td>\n",
       "      <td>1988-02-11</td>\n",
       "      <td>0</td>\n",
       "      <td>NOIDA</td>\n",
       "      <td>76340.635</td>\n",
       "      <td>2553.0</td>\n",
       "      <td>24</td>\n",
       "      <td>2016-09-26</td>\n",
       "      <td>2016-08-09</td>\n",
       "      <td>48 days</td>\n",
       "    </tr>\n",
       "    <tr>\n",
       "      <th>C1010012</th>\n",
       "      <td>1</td>\n",
       "      <td>1994-07-28</td>\n",
       "      <td>1</td>\n",
       "      <td>MUMBAI</td>\n",
       "      <td>24204.490</td>\n",
       "      <td>1499.0</td>\n",
       "      <td>22</td>\n",
       "      <td>2016-08-14</td>\n",
       "      <td>2016-08-14</td>\n",
       "      <td>0 days</td>\n",
       "    </tr>\n",
       "    <tr>\n",
       "      <th>C1010014</th>\n",
       "      <td>2</td>\n",
       "      <td>1988-07-12</td>\n",
       "      <td>0</td>\n",
       "      <td>MUMBAI</td>\n",
       "      <td>100112.950</td>\n",
       "      <td>727.5</td>\n",
       "      <td>24</td>\n",
       "      <td>2016-08-07</td>\n",
       "      <td>2016-08-01</td>\n",
       "      <td>6 days</td>\n",
       "    </tr>\n",
       "    <tr>\n",
       "      <th>C1010018</th>\n",
       "      <td>1</td>\n",
       "      <td>1990-05-29</td>\n",
       "      <td>0</td>\n",
       "      <td>CHAMPARAN</td>\n",
       "      <td>496.180</td>\n",
       "      <td>30.0</td>\n",
       "      <td>26</td>\n",
       "      <td>2016-09-15</td>\n",
       "      <td>2016-09-15</td>\n",
       "      <td>0 days</td>\n",
       "    </tr>\n",
       "    <tr>\n",
       "      <th>C1010028</th>\n",
       "      <td>1</td>\n",
       "      <td>1988-08-25</td>\n",
       "      <td>0</td>\n",
       "      <td>DELHI</td>\n",
       "      <td>296828.370</td>\n",
       "      <td>557.0</td>\n",
       "      <td>28</td>\n",
       "      <td>2016-08-29</td>\n",
       "      <td>2016-08-29</td>\n",
       "      <td>0 days</td>\n",
       "    </tr>\n",
       "  </tbody>\n",
       "</table>\n",
       "</div>"
      ],
      "text/plain": [
       "            TransactionID CustomerDOB  CustGender CustLocation  \\\n",
       "CustomerID                                                       \n",
       "C1010011                2  1988-02-11           0        NOIDA   \n",
       "C1010012                1  1994-07-28           1       MUMBAI   \n",
       "C1010014                2  1988-07-12           0       MUMBAI   \n",
       "C1010018                1  1990-05-29           0    CHAMPARAN   \n",
       "C1010028                1  1988-08-25           0        DELHI   \n",
       "\n",
       "            CustAccountBalance  TransactionAmount (INR)  Age Pre_Recency  \\\n",
       "CustomerID                                                                 \n",
       "C1010011             76340.635                   2553.0   24  2016-09-26   \n",
       "C1010012             24204.490                   1499.0   22  2016-08-14   \n",
       "C1010014            100112.950                    727.5   24  2016-08-07   \n",
       "C1010018               496.180                     30.0   26  2016-09-15   \n",
       "C1010028            296828.370                    557.0   28  2016-08-29   \n",
       "\n",
       "           FirstDateCustVisitBanck  Recency  \n",
       "CustomerID                                   \n",
       "C1010011                2016-08-09  48 days  \n",
       "C1010012                2016-08-14   0 days  \n",
       "C1010014                2016-08-01   6 days  \n",
       "C1010018                2016-09-15   0 days  \n",
       "C1010028                2016-08-29   0 days  "
      ]
     },
     "execution_count": 27,
     "metadata": {},
     "output_type": "execute_result"
    }
   ],
   "source": [
    "RFM_df.head()"
   ]
  },
  {
   "cell_type": "code",
   "execution_count": 28,
   "metadata": {},
   "outputs": [],
   "source": [
    "RFM_df ['Recency'] = RFM_df ['Recency'].apply(lambda x :re.search('\\d+', x ).group())\n",
    "RFM_df['Recency']=RFM_df['Recency'].astype(int)"
   ]
  },
  {
   "cell_type": "code",
   "execution_count": 29,
   "metadata": {},
   "outputs": [
    {
     "data": {
      "text/html": [
       "<div>\n",
       "<style scoped>\n",
       "    .dataframe tbody tr th:only-of-type {\n",
       "        vertical-align: middle;\n",
       "    }\n",
       "\n",
       "    .dataframe tbody tr th {\n",
       "        vertical-align: top;\n",
       "    }\n",
       "\n",
       "    .dataframe thead th {\n",
       "        text-align: right;\n",
       "    }\n",
       "</style>\n",
       "<table border=\"1\" class=\"dataframe\">\n",
       "  <thead>\n",
       "    <tr style=\"text-align: right;\">\n",
       "      <th></th>\n",
       "      <th>TransactionID</th>\n",
       "      <th>CustomerDOB</th>\n",
       "      <th>CustGender</th>\n",
       "      <th>CustLocation</th>\n",
       "      <th>CustAccountBalance</th>\n",
       "      <th>TransactionAmount (INR)</th>\n",
       "      <th>Age</th>\n",
       "      <th>Pre_Recency</th>\n",
       "      <th>FirstDateCustVisitBanck</th>\n",
       "      <th>Recency</th>\n",
       "    </tr>\n",
       "    <tr>\n",
       "      <th>CustomerID</th>\n",
       "      <th></th>\n",
       "      <th></th>\n",
       "      <th></th>\n",
       "      <th></th>\n",
       "      <th></th>\n",
       "      <th></th>\n",
       "      <th></th>\n",
       "      <th></th>\n",
       "      <th></th>\n",
       "      <th></th>\n",
       "    </tr>\n",
       "  </thead>\n",
       "  <tbody>\n",
       "    <tr>\n",
       "      <th>C1010011</th>\n",
       "      <td>2</td>\n",
       "      <td>1988-02-11</td>\n",
       "      <td>0</td>\n",
       "      <td>NOIDA</td>\n",
       "      <td>76340.635</td>\n",
       "      <td>2553.0</td>\n",
       "      <td>24</td>\n",
       "      <td>2016-09-26</td>\n",
       "      <td>2016-08-09</td>\n",
       "      <td>48</td>\n",
       "    </tr>\n",
       "    <tr>\n",
       "      <th>C1010012</th>\n",
       "      <td>1</td>\n",
       "      <td>1994-07-28</td>\n",
       "      <td>1</td>\n",
       "      <td>MUMBAI</td>\n",
       "      <td>24204.490</td>\n",
       "      <td>1499.0</td>\n",
       "      <td>22</td>\n",
       "      <td>2016-08-14</td>\n",
       "      <td>2016-08-14</td>\n",
       "      <td>0</td>\n",
       "    </tr>\n",
       "    <tr>\n",
       "      <th>C1010014</th>\n",
       "      <td>2</td>\n",
       "      <td>1988-07-12</td>\n",
       "      <td>0</td>\n",
       "      <td>MUMBAI</td>\n",
       "      <td>100112.950</td>\n",
       "      <td>727.5</td>\n",
       "      <td>24</td>\n",
       "      <td>2016-08-07</td>\n",
       "      <td>2016-08-01</td>\n",
       "      <td>6</td>\n",
       "    </tr>\n",
       "    <tr>\n",
       "      <th>C1010018</th>\n",
       "      <td>1</td>\n",
       "      <td>1990-05-29</td>\n",
       "      <td>0</td>\n",
       "      <td>CHAMPARAN</td>\n",
       "      <td>496.180</td>\n",
       "      <td>30.0</td>\n",
       "      <td>26</td>\n",
       "      <td>2016-09-15</td>\n",
       "      <td>2016-09-15</td>\n",
       "      <td>0</td>\n",
       "    </tr>\n",
       "    <tr>\n",
       "      <th>C1010028</th>\n",
       "      <td>1</td>\n",
       "      <td>1988-08-25</td>\n",
       "      <td>0</td>\n",
       "      <td>DELHI</td>\n",
       "      <td>296828.370</td>\n",
       "      <td>557.0</td>\n",
       "      <td>28</td>\n",
       "      <td>2016-08-29</td>\n",
       "      <td>2016-08-29</td>\n",
       "      <td>0</td>\n",
       "    </tr>\n",
       "  </tbody>\n",
       "</table>\n",
       "</div>"
      ],
      "text/plain": [
       "            TransactionID CustomerDOB  CustGender CustLocation  \\\n",
       "CustomerID                                                       \n",
       "C1010011                2  1988-02-11           0        NOIDA   \n",
       "C1010012                1  1994-07-28           1       MUMBAI   \n",
       "C1010014                2  1988-07-12           0       MUMBAI   \n",
       "C1010018                1  1990-05-29           0    CHAMPARAN   \n",
       "C1010028                1  1988-08-25           0        DELHI   \n",
       "\n",
       "            CustAccountBalance  TransactionAmount (INR)  Age Pre_Recency  \\\n",
       "CustomerID                                                                 \n",
       "C1010011             76340.635                   2553.0   24  2016-09-26   \n",
       "C1010012             24204.490                   1499.0   22  2016-08-14   \n",
       "C1010014            100112.950                    727.5   24  2016-08-07   \n",
       "C1010018               496.180                     30.0   26  2016-09-15   \n",
       "C1010028            296828.370                    557.0   28  2016-08-29   \n",
       "\n",
       "           FirstDateCustVisitBanck  Recency  \n",
       "CustomerID                                   \n",
       "C1010011                2016-08-09       48  \n",
       "C1010012                2016-08-14        0  \n",
       "C1010014                2016-08-01        6  \n",
       "C1010018                2016-09-15        0  \n",
       "C1010028                2016-08-29        0  "
      ]
     },
     "execution_count": 29,
     "metadata": {},
     "output_type": "execute_result"
    }
   ],
   "source": [
    "RFM_df.head()"
   ]
  },
  {
   "cell_type": "code",
   "execution_count": 30,
   "metadata": {},
   "outputs": [],
   "source": [
    "RFM_df.rename(columns={\"TransactionID\":\"Frequency\"},inplace=True)"
   ]
  },
  {
   "cell_type": "code",
   "execution_count": 31,
   "metadata": {},
   "outputs": [
    {
     "data": {
      "image/png": "[encoded data removed]",
      "text/plain": [
       "<Figure size 1000x800 with 1 Axes>"
      ]
     },
     "metadata": {},
     "output_type": "display_data"
    }
   ],
   "source": [
    "fig = plt.figure(figsize= (10,8))\n",
    "ax = df.groupby('CustGender')['TransactionAmount (INR)'].mean().plot(kind='bar',color=['pink','blue'])\n",
    "plt.ylabel('Transaction Amount (INR)')\n",
    "plt.show()"
   ]
  },
  {
   "cell_type": "code",
   "execution_count": 32,
   "metadata": {},
   "outputs": [
    {
     "data": {
      "image/png": "[encoded data removed]",
      "text/plain": [
       "<Figure size 1000x800 with 1 Axes>"
      ]
     },
     "metadata": {},
     "output_type": "display_data"
    }
   ],
   "source": [
    "fig = plt.figure(figsize= (10,8))\n",
    "ax = df.groupby('CustGender')['CustAccountBalance'].mean().plot(kind='bar',color=['pink','blue'])\n",
    "plt.ylabel('Transaction Amount (INR)')\n",
    "plt.show()"
   ]
  },
  {
   "cell_type": "code",
   "execution_count": 33,
   "metadata": {},
   "outputs": [
    {
     "data": {
      "text/html": [
       "<div>\n",
       "<style scoped>\n",
       "    .dataframe tbody tr th:only-of-type {\n",
       "        vertical-align: middle;\n",
       "    }\n",
       "\n",
       "    .dataframe tbody tr th {\n",
       "        vertical-align: top;\n",
       "    }\n",
       "\n",
       "    .dataframe thead th {\n",
       "        text-align: right;\n",
       "    }\n",
       "</style>\n",
       "<table border=\"1\" class=\"dataframe\">\n",
       "  <thead>\n",
       "    <tr style=\"text-align: right;\">\n",
       "      <th></th>\n",
       "      <th>Frequency</th>\n",
       "      <th>CustGender</th>\n",
       "      <th>CustAccountBalance</th>\n",
       "      <th>TransactionAmount (INR)</th>\n",
       "      <th>Age</th>\n",
       "      <th>Recency</th>\n",
       "    </tr>\n",
       "  </thead>\n",
       "  <tbody>\n",
       "    <tr>\n",
       "      <th>count</th>\n",
       "      <td>788502.000000</td>\n",
       "      <td>788502.000000</td>\n",
       "      <td>7.885020e+05</td>\n",
       "      <td>7.885020e+05</td>\n",
       "      <td>788502.000000</td>\n",
       "      <td>788502.000000</td>\n",
       "    </tr>\n",
       "    <tr>\n",
       "      <th>mean</th>\n",
       "      <td>1.161647</td>\n",
       "      <td>0.722769</td>\n",
       "      <td>9.564446e+04</td>\n",
       "      <td>1.389577e+03</td>\n",
       "      <td>30.248500</td>\n",
       "      <td>2.628192</td>\n",
       "    </tr>\n",
       "    <tr>\n",
       "      <th>std</th>\n",
       "      <td>0.417920</td>\n",
       "      <td>0.447632</td>\n",
       "      <td>7.090802e+05</td>\n",
       "      <td>5.809242e+03</td>\n",
       "      <td>7.168389</td>\n",
       "      <td>8.083601</td>\n",
       "    </tr>\n",
       "    <tr>\n",
       "      <th>min</th>\n",
       "      <td>1.000000</td>\n",
       "      <td>0.000000</td>\n",
       "      <td>0.000000e+00</td>\n",
       "      <td>0.000000e+00</td>\n",
       "      <td>21.000000</td>\n",
       "      <td>0.000000</td>\n",
       "    </tr>\n",
       "    <tr>\n",
       "      <th>25%</th>\n",
       "      <td>1.000000</td>\n",
       "      <td>0.000000</td>\n",
       "      <td>5.261370e+03</td>\n",
       "      <td>1.750425e+02</td>\n",
       "      <td>25.000000</td>\n",
       "      <td>0.000000</td>\n",
       "    </tr>\n",
       "    <tr>\n",
       "      <th>50%</th>\n",
       "      <td>1.000000</td>\n",
       "      <td>1.000000</td>\n",
       "      <td>1.715387e+04</td>\n",
       "      <td>4.573000e+02</td>\n",
       "      <td>29.000000</td>\n",
       "      <td>0.000000</td>\n",
       "    </tr>\n",
       "    <tr>\n",
       "      <th>75%</th>\n",
       "      <td>1.000000</td>\n",
       "      <td>1.000000</td>\n",
       "      <td>5.457242e+04</td>\n",
       "      <td>1.127000e+03</td>\n",
       "      <td>33.000000</td>\n",
       "      <td>0.000000</td>\n",
       "    </tr>\n",
       "    <tr>\n",
       "      <th>max</th>\n",
       "      <td>6.000000</td>\n",
       "      <td>1.000000</td>\n",
       "      <td>1.150355e+08</td>\n",
       "      <td>1.560035e+06</td>\n",
       "      <td>86.000000</td>\n",
       "      <td>81.000000</td>\n",
       "    </tr>\n",
       "  </tbody>\n",
       "</table>\n",
       "</div>"
      ],
      "text/plain": [
       "           Frequency     CustGender  CustAccountBalance  \\\n",
       "count  788502.000000  788502.000000        7.885020e+05   \n",
       "mean        1.161647       0.722769        9.564446e+04   \n",
       "std         0.417920       0.447632        7.090802e+05   \n",
       "min         1.000000       0.000000        0.000000e+00   \n",
       "25%         1.000000       0.000000        5.261370e+03   \n",
       "50%         1.000000       1.000000        1.715387e+04   \n",
       "75%         1.000000       1.000000        5.457242e+04   \n",
       "max         6.000000       1.000000        1.150355e+08   \n",
       "\n",
       "       TransactionAmount (INR)            Age        Recency  \n",
       "count             7.885020e+05  788502.000000  788502.000000  \n",
       "mean              1.389577e+03      30.248500       2.628192  \n",
       "std               5.809242e+03       7.168389       8.083601  \n",
       "min               0.000000e+00      21.000000       0.000000  \n",
       "25%               1.750425e+02      25.000000       0.000000  \n",
       "50%               4.573000e+02      29.000000       0.000000  \n",
       "75%               1.127000e+03      33.000000       0.000000  \n",
       "max               1.560035e+06      86.000000      81.000000  "
      ]
     },
     "execution_count": 33,
     "metadata": {},
     "output_type": "execute_result"
    }
   ],
   "source": [
    "RFM_df.describe()"
   ]
  },
  {
   "cell_type": "code",
   "execution_count": 34,
   "metadata": {},
   "outputs": [
    {
     "name": "stderr",
     "output_type": "stream",
     "text": [
      "C:\\Users\\Heba\\AppData\\Local\\Temp\\ipykernel_19812\\3435804464.py:1: FutureWarning: The default value of numeric_only in DataFrame.corr is deprecated. In a future version, it will default to False. Select only valid columns or specify the value of numeric_only to silence this warning.\n",
      "  RFM_df.corr()\n"
     ]
    },
    {
     "data": {
      "text/html": [
       "<div>\n",
       "<style scoped>\n",
       "    .dataframe tbody tr th:only-of-type {\n",
       "        vertical-align: middle;\n",
       "    }\n",
       "\n",
       "    .dataframe tbody tr th {\n",
       "        vertical-align: top;\n",
       "    }\n",
       "\n",
       "    .dataframe thead th {\n",
       "        text-align: right;\n",
       "    }\n",
       "</style>\n",
       "<table border=\"1\" class=\"dataframe\">\n",
       "  <thead>\n",
       "    <tr style=\"text-align: right;\">\n",
       "      <th></th>\n",
       "      <th>Frequency</th>\n",
       "      <th>CustGender</th>\n",
       "      <th>CustAccountBalance</th>\n",
       "      <th>TransactionAmount (INR)</th>\n",
       "      <th>Age</th>\n",
       "      <th>Recency</th>\n",
       "    </tr>\n",
       "  </thead>\n",
       "  <tbody>\n",
       "    <tr>\n",
       "      <th>Frequency</th>\n",
       "      <td>1.000000</td>\n",
       "      <td>-0.001305</td>\n",
       "      <td>-0.000104</td>\n",
       "      <td>-0.000585</td>\n",
       "      <td>0.001111</td>\n",
       "      <td>0.794123</td>\n",
       "    </tr>\n",
       "    <tr>\n",
       "      <th>CustGender</th>\n",
       "      <td>-0.001305</td>\n",
       "      <td>1.000000</td>\n",
       "      <td>0.000455</td>\n",
       "      <td>-0.013711</td>\n",
       "      <td>0.055715</td>\n",
       "      <td>-0.001846</td>\n",
       "    </tr>\n",
       "    <tr>\n",
       "      <th>CustAccountBalance</th>\n",
       "      <td>-0.000104</td>\n",
       "      <td>0.000455</td>\n",
       "      <td>1.000000</td>\n",
       "      <td>0.055528</td>\n",
       "      <td>0.109975</td>\n",
       "      <td>-0.000417</td>\n",
       "    </tr>\n",
       "    <tr>\n",
       "      <th>TransactionAmount (INR)</th>\n",
       "      <td>-0.000585</td>\n",
       "      <td>-0.013711</td>\n",
       "      <td>0.055528</td>\n",
       "      <td>1.000000</td>\n",
       "      <td>0.087613</td>\n",
       "      <td>-0.000561</td>\n",
       "    </tr>\n",
       "    <tr>\n",
       "      <th>Age</th>\n",
       "      <td>0.001111</td>\n",
       "      <td>0.055715</td>\n",
       "      <td>0.109975</td>\n",
       "      <td>0.087613</td>\n",
       "      <td>1.000000</td>\n",
       "      <td>0.000169</td>\n",
       "    </tr>\n",
       "    <tr>\n",
       "      <th>Recency</th>\n",
       "      <td>0.794123</td>\n",
       "      <td>-0.001846</td>\n",
       "      <td>-0.000417</td>\n",
       "      <td>-0.000561</td>\n",
       "      <td>0.000169</td>\n",
       "      <td>1.000000</td>\n",
       "    </tr>\n",
       "  </tbody>\n",
       "</table>\n",
       "</div>"
      ],
      "text/plain": [
       "                         Frequency  CustGender  CustAccountBalance  \\\n",
       "Frequency                 1.000000   -0.001305           -0.000104   \n",
       "CustGender               -0.001305    1.000000            0.000455   \n",
       "CustAccountBalance       -0.000104    0.000455            1.000000   \n",
       "TransactionAmount (INR)  -0.000585   -0.013711            0.055528   \n",
       "Age                       0.001111    0.055715            0.109975   \n",
       "Recency                   0.794123   -0.001846           -0.000417   \n",
       "\n",
       "                         TransactionAmount (INR)       Age   Recency  \n",
       "Frequency                              -0.000585  0.001111  0.794123  \n",
       "CustGender                             -0.013711  0.055715 -0.001846  \n",
       "CustAccountBalance                      0.055528  0.109975 -0.000417  \n",
       "TransactionAmount (INR)                 1.000000  0.087613 -0.000561  \n",
       "Age                                     0.087613  1.000000  0.000169  \n",
       "Recency                                -0.000561  0.000169  1.000000  "
      ]
     },
     "execution_count": 34,
     "metadata": {},
     "output_type": "execute_result"
    }
   ],
   "source": [
    "RFM_df.corr()"
   ]
  },
  {
   "cell_type": "code",
   "execution_count": 35,
   "metadata": {},
   "outputs": [],
   "source": [
    "RFM_df.drop(columns=['CustomerDOB', 'CustLocation','Pre_Recency', 'FirstDateCustVisitBanck'], axis= 0 ,inplace=True)"
   ]
  },
  {
   "cell_type": "code",
   "execution_count": 36,
   "metadata": {},
   "outputs": [
    {
     "data": {
      "text/html": [
       "<div>\n",
       "<style scoped>\n",
       "    .dataframe tbody tr th:only-of-type {\n",
       "        vertical-align: middle;\n",
       "    }\n",
       "\n",
       "    .dataframe tbody tr th {\n",
       "        vertical-align: top;\n",
       "    }\n",
       "\n",
       "    .dataframe thead th {\n",
       "        text-align: right;\n",
       "    }\n",
       "</style>\n",
       "<table border=\"1\" class=\"dataframe\">\n",
       "  <thead>\n",
       "    <tr style=\"text-align: right;\">\n",
       "      <th></th>\n",
       "      <th>Frequency</th>\n",
       "      <th>CustGender</th>\n",
       "      <th>CustAccountBalance</th>\n",
       "      <th>TransactionAmount (INR)</th>\n",
       "      <th>Age</th>\n",
       "      <th>Recency</th>\n",
       "    </tr>\n",
       "    <tr>\n",
       "      <th>CustomerID</th>\n",
       "      <th></th>\n",
       "      <th></th>\n",
       "      <th></th>\n",
       "      <th></th>\n",
       "      <th></th>\n",
       "      <th></th>\n",
       "    </tr>\n",
       "  </thead>\n",
       "  <tbody>\n",
       "    <tr>\n",
       "      <th>C1010011</th>\n",
       "      <td>2</td>\n",
       "      <td>0</td>\n",
       "      <td>76340.635</td>\n",
       "      <td>2553.0</td>\n",
       "      <td>24</td>\n",
       "      <td>48</td>\n",
       "    </tr>\n",
       "    <tr>\n",
       "      <th>C1010012</th>\n",
       "      <td>1</td>\n",
       "      <td>1</td>\n",
       "      <td>24204.490</td>\n",
       "      <td>1499.0</td>\n",
       "      <td>22</td>\n",
       "      <td>0</td>\n",
       "    </tr>\n",
       "    <tr>\n",
       "      <th>C1010014</th>\n",
       "      <td>2</td>\n",
       "      <td>0</td>\n",
       "      <td>100112.950</td>\n",
       "      <td>727.5</td>\n",
       "      <td>24</td>\n",
       "      <td>6</td>\n",
       "    </tr>\n",
       "    <tr>\n",
       "      <th>C1010018</th>\n",
       "      <td>1</td>\n",
       "      <td>0</td>\n",
       "      <td>496.180</td>\n",
       "      <td>30.0</td>\n",
       "      <td>26</td>\n",
       "      <td>0</td>\n",
       "    </tr>\n",
       "    <tr>\n",
       "      <th>C1010028</th>\n",
       "      <td>1</td>\n",
       "      <td>0</td>\n",
       "      <td>296828.370</td>\n",
       "      <td>557.0</td>\n",
       "      <td>28</td>\n",
       "      <td>0</td>\n",
       "    </tr>\n",
       "  </tbody>\n",
       "</table>\n",
       "</div>"
      ],
      "text/plain": [
       "            Frequency  CustGender  CustAccountBalance  \\\n",
       "CustomerID                                              \n",
       "C1010011            2           0           76340.635   \n",
       "C1010012            1           1           24204.490   \n",
       "C1010014            2           0          100112.950   \n",
       "C1010018            1           0             496.180   \n",
       "C1010028            1           0          296828.370   \n",
       "\n",
       "            TransactionAmount (INR)  Age  Recency  \n",
       "CustomerID                                         \n",
       "C1010011                     2553.0   24       48  \n",
       "C1010012                     1499.0   22        0  \n",
       "C1010014                      727.5   24        6  \n",
       "C1010018                       30.0   26        0  \n",
       "C1010028                      557.0   28        0  "
      ]
     },
     "execution_count": 36,
     "metadata": {},
     "output_type": "execute_result"
    }
   ],
   "source": [
    "RFM_df.head()"
   ]
  },
  {
   "cell_type": "code",
   "execution_count": 37,
   "metadata": {},
   "outputs": [
    {
     "data": {
      "text/plain": [
       "Frequency                    int64\n",
       "CustGender                   int64\n",
       "CustAccountBalance         float64\n",
       "TransactionAmount (INR)    float64\n",
       "Age                          int64\n",
       "Recency                      int32\n",
       "dtype: object"
      ]
     },
     "execution_count": 37,
     "metadata": {},
     "output_type": "execute_result"
    }
   ],
   "source": [
    "RFM_df.dtypes"
   ]
  },
  {
   "attachments": {},
   "cell_type": "markdown",
   "metadata": {},
   "source": [
    "## <span style='background :White' > <span style='color:Green'> Feature Engineering  </span> </span>"
   ]
  },
  {
   "cell_type": "code",
   "execution_count": 38,
   "metadata": {},
   "outputs": [
    {
     "data": {
      "text/html": [
       "<div>\n",
       "<style scoped>\n",
       "    .dataframe tbody tr th:only-of-type {\n",
       "        vertical-align: middle;\n",
       "    }\n",
       "\n",
       "    .dataframe tbody tr th {\n",
       "        vertical-align: top;\n",
       "    }\n",
       "\n",
       "    .dataframe thead th {\n",
       "        text-align: right;\n",
       "    }\n",
       "</style>\n",
       "<table border=\"1\" class=\"dataframe\">\n",
       "  <thead>\n",
       "    <tr style=\"text-align: right;\">\n",
       "      <th></th>\n",
       "      <th>Frequency</th>\n",
       "      <th>CustGender</th>\n",
       "      <th>CustAccountBalance</th>\n",
       "      <th>TransactionAmount (INR)</th>\n",
       "      <th>Age</th>\n",
       "      <th>Recency</th>\n",
       "    </tr>\n",
       "  </thead>\n",
       "  <tbody>\n",
       "    <tr>\n",
       "      <th>0</th>\n",
       "      <td>-0.386789</td>\n",
       "      <td>-1.614653</td>\n",
       "      <td>-0.134697</td>\n",
       "      <td>-0.153304</td>\n",
       "      <td>-1.011176</td>\n",
       "      <td>-0.325127</td>\n",
       "    </tr>\n",
       "    <tr>\n",
       "      <th>1</th>\n",
       "      <td>-0.386789</td>\n",
       "      <td>0.619328</td>\n",
       "      <td>-0.126800</td>\n",
       "      <td>-0.233004</td>\n",
       "      <td>-0.871675</td>\n",
       "      <td>-0.325127</td>\n",
       "    </tr>\n",
       "    <tr>\n",
       "      <th>2</th>\n",
       "      <td>2.006012</td>\n",
       "      <td>0.619328</td>\n",
       "      <td>-0.120569</td>\n",
       "      <td>-0.182912</td>\n",
       "      <td>-0.174168</td>\n",
       "      <td>1.283069</td>\n",
       "    </tr>\n",
       "    <tr>\n",
       "      <th>3</th>\n",
       "      <td>-0.386789</td>\n",
       "      <td>-1.614653</td>\n",
       "      <td>-0.133355</td>\n",
       "      <td>-0.226119</td>\n",
       "      <td>-0.871675</td>\n",
       "      <td>-0.325127</td>\n",
       "    </tr>\n",
       "    <tr>\n",
       "      <th>4</th>\n",
       "      <td>-0.386789</td>\n",
       "      <td>0.619328</td>\n",
       "      <td>-0.129823</td>\n",
       "      <td>-0.153131</td>\n",
       "      <td>0.662841</td>\n",
       "      <td>-0.325127</td>\n",
       "    </tr>\n",
       "  </tbody>\n",
       "</table>\n",
       "</div>"
      ],
      "text/plain": [
       "   Frequency  CustGender  CustAccountBalance  TransactionAmount (INR)  \\\n",
       "0  -0.386789   -1.614653           -0.134697                -0.153304   \n",
       "1  -0.386789    0.619328           -0.126800                -0.233004   \n",
       "2   2.006012    0.619328           -0.120569                -0.182912   \n",
       "3  -0.386789   -1.614653           -0.133355                -0.226119   \n",
       "4  -0.386789    0.619328           -0.129823                -0.153131   \n",
       "\n",
       "        Age   Recency  \n",
       "0 -1.011176 -0.325127  \n",
       "1 -0.871675 -0.325127  \n",
       "2 -0.174168  1.283069  \n",
       "3 -0.871675 -0.325127  \n",
       "4  0.662841 -0.325127  "
      ]
     },
     "execution_count": 38,
     "metadata": {},
     "output_type": "execute_result"
    }
   ],
   "source": [
    "sc = StandardScaler(copy=True , with_mean=True , with_std= True)\n",
    "RFM_df_sc = sc.fit_transform (RFM_df)\n",
    "df_scaled = pd.DataFrame(RFM_df_sc , columns = RFM_df.columns)\n",
    "df_scaled=df_scaled.sample(n=10000,random_state=0).reset_index(drop=True)\n",
    "df_scaled.head()"
   ]
  },
  {
   "cell_type": "code",
   "execution_count": 39,
   "metadata": {},
   "outputs": [
    {
     "data": {
      "text/plain": [
       "(10000, 6)"
      ]
     },
     "execution_count": 39,
     "metadata": {},
     "output_type": "execute_result"
    }
   ],
   "source": [
    "df_scaled.shape"
   ]
  },
  {
   "cell_type": "code",
   "execution_count": 40,
   "metadata": {},
   "outputs": [
    {
     "data": {
      "text/plain": [
       "<matplotlib.collections.PathCollection at 0x21362e70310>"
      ]
     },
     "execution_count": 40,
     "metadata": {},
     "output_type": "execute_result"
    },
    {
     "data": {
      "image/png": "[encoded data removed]",
      "text/plain": [
       "<Figure size 640x480 with 1 Axes>"
      ]
     },
     "metadata": {},
     "output_type": "display_data"
    }
   ],
   "source": [
    "plt.scatter(x = df_scaled['Age'] , y = df_scaled['TransactionAmount (INR)'])"
   ]
  },
  {
   "cell_type": "code",
   "execution_count": 42,
   "metadata": {},
   "outputs": [
    {
     "data": {
      "text/plain": [
       "<matplotlib.collections.PathCollection at 0x21335354df0>"
      ]
     },
     "execution_count": 42,
     "metadata": {},
     "output_type": "execute_result"
    },
    {
     "data": {
      "image/png": "[encoded data removed]",
      "text/plain": [
       "<Figure size 640x480 with 1 Axes>"
      ]
     },
     "metadata": {},
     "output_type": "display_data"
    }
   ],
   "source": [
    "plt.scatter(x = df_scaled['CustAccountBalance'] , y = df_scaled['TransactionAmount (INR)'])"
   ]
  },
  {
   "cell_type": "code",
   "execution_count": 43,
   "metadata": {},
   "outputs": [
    {
     "data": {
      "text/plain": [
       "<matplotlib.collections.PathCollection at 0x213353d9520>"
      ]
     },
     "execution_count": 43,
     "metadata": {},
     "output_type": "execute_result"
    },
    {
     "data": {
      "image/png": "[encoded data removed]",
      "text/plain": [
       "<Figure size 640x480 with 1 Axes>"
      ]
     },
     "metadata": {},
     "output_type": "display_data"
    }
   ],
   "source": [
    "plt.scatter(x =df_scaled['Age'] , y=df_scaled['TransactionAmount (INR)'])"
   ]
  },
  {
   "cell_type": "code",
   "execution_count": 44,
   "metadata": {},
   "outputs": [
    {
     "data": {
      "text/plain": [
       "<Axes: xlabel='Frequency', ylabel='CustAccountBalance'>"
      ]
     },
     "execution_count": 44,
     "metadata": {},
     "output_type": "execute_result"
    },
    {
     "data": {
      "image/png": "[encoded data removed]",
      "text/plain": [
       "<Figure size 640x480 with 1 Axes>"
      ]
     },
     "metadata": {},
     "output_type": "display_data"
    }
   ],
   "source": [
    "sns.scatterplot (x =df_scaled['Frequency'] , y=df_scaled['CustAccountBalance'])"
   ]
  },
  {
   "attachments": {},
   "cell_type": "markdown",
   "metadata": {},
   "source": [
    "## <span style='background :White' > <span style='color:Green'> Modelling  </span> </span>"
   ]
  },
  {
   "cell_type": "code",
   "execution_count": 45,
   "metadata": {},
   "outputs": [],
   "source": [
    "RFM_df = RFM_df.sample(n=10000,random_state=0).reset_index(drop=True)"
   ]
  },
  {
   "cell_type": "code",
   "execution_count": 46,
   "metadata": {},
   "outputs": [
    {
     "name": "stderr",
     "output_type": "stream",
     "text": [
      "c:\\Users\\Heba\\anaconda3\\envs\\heba\\lib\\site-packages\\sklearn\\cluster\\_kmeans.py:1412: FutureWarning: The default value of `n_init` will change from 10 to 'auto' in 1.4. Set the value of `n_init` explicitly to suppress the warning\n",
      "  super()._check_params_vs_input(X, default_n_init=10)\n",
      "c:\\Users\\Heba\\anaconda3\\envs\\heba\\lib\\site-packages\\sklearn\\cluster\\_kmeans.py:1412: FutureWarning: The default value of `n_init` will change from 10 to 'auto' in 1.4. Set the value of `n_init` explicitly to suppress the warning\n",
      "  super()._check_params_vs_input(X, default_n_init=10)\n",
      "c:\\Users\\Heba\\anaconda3\\envs\\heba\\lib\\site-packages\\sklearn\\cluster\\_kmeans.py:1412: FutureWarning: The default value of `n_init` will change from 10 to 'auto' in 1.4. Set the value of `n_init` explicitly to suppress the warning\n",
      "  super()._check_params_vs_input(X, default_n_init=10)\n",
      "c:\\Users\\Heba\\anaconda3\\envs\\heba\\lib\\site-packages\\sklearn\\cluster\\_kmeans.py:1412: FutureWarning: The default value of `n_init` will change from 10 to 'auto' in 1.4. Set the value of `n_init` explicitly to suppress the warning\n",
      "  super()._check_params_vs_input(X, default_n_init=10)\n",
      "c:\\Users\\Heba\\anaconda3\\envs\\heba\\lib\\site-packages\\sklearn\\cluster\\_kmeans.py:1412: FutureWarning: The default value of `n_init` will change from 10 to 'auto' in 1.4. Set the value of `n_init` explicitly to suppress the warning\n",
      "  super()._check_params_vs_input(X, default_n_init=10)\n",
      "c:\\Users\\Heba\\anaconda3\\envs\\heba\\lib\\site-packages\\sklearn\\cluster\\_kmeans.py:1412: FutureWarning: The default value of `n_init` will change from 10 to 'auto' in 1.4. Set the value of `n_init` explicitly to suppress the warning\n",
      "  super()._check_params_vs_input(X, default_n_init=10)\n",
      "c:\\Users\\Heba\\anaconda3\\envs\\heba\\lib\\site-packages\\sklearn\\cluster\\_kmeans.py:1412: FutureWarning: The default value of `n_init` will change from 10 to 'auto' in 1.4. Set the value of `n_init` explicitly to suppress the warning\n",
      "  super()._check_params_vs_input(X, default_n_init=10)\n",
      "c:\\Users\\Heba\\anaconda3\\envs\\heba\\lib\\site-packages\\sklearn\\cluster\\_kmeans.py:1412: FutureWarning: The default value of `n_init` will change from 10 to 'auto' in 1.4. Set the value of `n_init` explicitly to suppress the warning\n",
      "  super()._check_params_vs_input(X, default_n_init=10)\n",
      "c:\\Users\\Heba\\anaconda3\\envs\\heba\\lib\\site-packages\\sklearn\\cluster\\_kmeans.py:1412: FutureWarning: The default value of `n_init` will change from 10 to 'auto' in 1.4. Set the value of `n_init` explicitly to suppress the warning\n",
      "  super()._check_params_vs_input(X, default_n_init=10)\n"
     ]
    },
    {
     "data": {
      "image/png": "[encoded data removed]",
      "text/plain": [
       "<Figure size 1000x600 with 1 Axes>"
      ]
     },
     "metadata": {},
     "output_type": "display_data"
    }
   ],
   "source": [
    "inertia = []\n",
    "K_range = range(2,11)\n",
    "\n",
    "for i in K_range :\n",
    "    Kmeans = KMeans( n_clusters = i , init = 'k-means++' , random_state = 0 )\n",
    "    Kmeans.fit (RFM_df)\n",
    "    inertia.append (Kmeans.inertia_)\n",
    "\n",
    "fig , ax = plt.subplots(figsize=(10, 6))\n",
    "sns.lineplot (x=K_range , y =inertia , ax = ax )\n",
    "plt.title ('elbow method')\n",
    "plt.xlabel('number of cluster')\n",
    "plt.ylabel('inertia')\n",
    "\n",
    "plt.show()"
   ]
  },
  {
   "attachments": {},
   "cell_type": "markdown",
   "metadata": {},
   "source": [
    "### K-Means"
   ]
  },
  {
   "cell_type": "code",
   "execution_count": 47,
   "metadata": {},
   "outputs": [
    {
     "name": "stderr",
     "output_type": "stream",
     "text": [
      "c:\\Users\\Heba\\anaconda3\\envs\\heba\\lib\\site-packages\\sklearn\\cluster\\_kmeans.py:1412: FutureWarning: The default value of `n_init` will change from 10 to 'auto' in 1.4. Set the value of `n_init` explicitly to suppress the warning\n",
      "  super()._check_params_vs_input(X, default_n_init=10)\n"
     ]
    }
   ],
   "source": [
    "km4 = KMeans( n_clusters = 4 , init = 'k-means++' , random_state = 0 )\n",
    "labels = km4.fit_predict (RFM_df[['CustAccountBalance' ,'TransactionAmount (INR)']])"
   ]
  },
  {
   "cell_type": "code",
   "execution_count": 48,
   "metadata": {},
   "outputs": [],
   "source": [
    "RFM_df['cluster']=labels"
   ]
  },
  {
   "cell_type": "code",
   "execution_count": 49,
   "metadata": {},
   "outputs": [
    {
     "data": {
      "text/plain": [
       "array([[5.10063653e+04, 1.35035546e+03],\n",
       "       [5.10310790e+06, 1.52895356e+03],\n",
       "       [1.25955977e+06, 2.90149033e+03],\n",
       "       [1.37869817e+07, 2.95066667e+03]])"
      ]
     },
     "execution_count": 49,
     "metadata": {},
     "output_type": "execute_result"
    }
   ],
   "source": [
    "km4.cluster_centers_"
   ]
  },
  {
   "cell_type": "code",
   "execution_count": 50,
   "metadata": {},
   "outputs": [
    {
     "name": "stderr",
     "output_type": "stream",
     "text": [
      "c:\\Users\\Heba\\anaconda3\\envs\\heba\\lib\\site-packages\\sklearn\\base.py:464: UserWarning: X does not have valid feature names, but KMeans was fitted with feature names\n",
      "  warnings.warn(\n"
     ]
    },
    {
     "data": {
      "text/plain": [
       "array([0, 3])"
      ]
     },
     "execution_count": 50,
     "metadata": {},
     "output_type": "execute_result"
    }
   ],
   "source": [
    "km4.predict([[100, 2000], [12000000, 360000000]])"
   ]
  },
  {
   "cell_type": "code",
   "execution_count": 51,
   "metadata": {},
   "outputs": [],
   "source": [
    "RFM_df['cluster'] = labels"
   ]
  },
  {
   "cell_type": "code",
   "execution_count": 52,
   "metadata": {},
   "outputs": [
    {
     "data": {
      "text/plain": [
       "array([[5.10063653e+04, 1.35035546e+03],\n",
       "       [5.10310790e+06, 1.52895356e+03],\n",
       "       [1.25955977e+06, 2.90149033e+03],\n",
       "       [1.37869817e+07, 2.95066667e+03]])"
      ]
     },
     "execution_count": 52,
     "metadata": {},
     "output_type": "execute_result"
    }
   ],
   "source": [
    "km4.cluster_centers_"
   ]
  },
  {
   "cell_type": "code",
   "execution_count": 53,
   "metadata": {},
   "outputs": [
    {
     "data": {
      "text/plain": [
       "<matplotlib.collections.PathCollection at 0x2136661e430>"
      ]
     },
     "execution_count": 53,
     "metadata": {},
     "output_type": "execute_result"
    },
    {
     "data": {
      "image/png": "[encoded data removed]",
      "text/plain": [
       "<Figure size 640x480 with 1 Axes>"
      ]
     },
     "metadata": {},
     "output_type": "display_data"
    }
   ],
   "source": [
    "\n",
    "df1= RFM_df [RFM_df.cluster ==0]\n",
    "df2= RFM_df [RFM_df.cluster ==1]\n",
    "df3= RFM_df [RFM_df.cluster ==2]\n",
    "df4= RFM_df [RFM_df.cluster ==3]\n",
    "#df5= df_scaled [df_scaled.cluster ==4]\n",
    "#df6= df_scaled [df_scaled.cluster ==5]\n",
    "#df7= df_scaled [df_scaled.cluster ==6]\n",
    "#df8= df_scaled [df_scaled.cluster ==7]\n",
    "plt.scatter(df1['CustAccountBalance'] ,df1['TransactionAmount (INR)'] , color = 'green')\n",
    "plt.scatter(df2['CustAccountBalance'] ,df2['TransactionAmount (INR)'] , color = 'red')\n",
    "plt.scatter(df3['CustAccountBalance'] ,df3['TransactionAmount (INR)'] , color = 'blue')\n",
    "plt.scatter(df4['CustAccountBalance'] ,df4['TransactionAmount (INR)'] , color = 'yellow')\n",
    "#plt.scatter(df5['CustAccountBalance'] ,df5['TransactionAmount (INR)'] , color = 'pink')\n",
    "#plt.scatter(df6['Age'] ,df6['TransactionAmount (INR)'] , color = 'black')\n",
    "#plt.scatter(df7['Age'] ,df7['TransactionAmount (INR)'] , color = 'gray')\n",
    "#plt.scatter(df8['Age'] ,df8['TransactionAmount (INR)'] , color = 'purple')"
   ]
  },
  {
   "cell_type": "code",
   "execution_count": 54,
   "metadata": {},
   "outputs": [
    {
     "data": {
      "text/plain": [
       "0    9744\n",
       "2     224\n",
       "1      29\n",
       "3       3\n",
       "Name: cluster, dtype: int64"
      ]
     },
     "execution_count": 54,
     "metadata": {},
     "output_type": "execute_result"
    }
   ],
   "source": [
    "RFM_df.cluster.value_counts()"
   ]
  },
  {
   "attachments": {},
   "cell_type": "markdown",
   "metadata": {},
   "source": [
    "## <span style='background :White' > <span style='color:Green'> save the model  </span> </span>"
   ]
  },
  {
   "cell_type": "code",
   "execution_count": 56,
   "metadata": {},
   "outputs": [],
   "source": [
    "#import pickle\n",
    "#pickle.dump(X_kmeans, open('model.pkl', 'wb'))"
   ]
  },
  {
   "cell_type": "code",
   "execution_count": 57,
   "metadata": {},
   "outputs": [],
   "source": [
    "#Model_kmeans = pickle.load(open('model.pkl','rb'))\n",
    "#Model_kmeans.predict(df)"
   ]
  },
  {
   "cell_type": "code",
   "execution_count": null,
   "metadata": {},
   "outputs": [],
   "source": []
  }
 ],
 "metadata": {
  "kernelspec": {
   "display_name": "base",
   "language": "python",
   "name": "python3"
  },
  "language_info": {
   "codemirror_mode": {
    "name": "ipython",
    "version": 3
   },
   "file_extension": ".py",
   "mimetype": "text/x-python",
   "name": "python",
   "nbconvert_exporter": "python",
   "pygments_lexer": "ipython3",
   "version": "3.9.16"
  },
  "orig_nbformat": 4
 },
 "nbformat": 4,
 "nbformat_minor": 2
}
